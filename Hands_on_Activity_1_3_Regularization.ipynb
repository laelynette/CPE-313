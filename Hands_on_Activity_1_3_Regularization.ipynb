{
  "cells": [
    {
      "cell_type": "markdown",
      "id": "frozen-passport",
      "metadata": {
        "id": "frozen-passport"
      },
      "source": [
        "# Activity 1.3 : Regularization"
      ]
    },
    {
      "cell_type": "markdown",
      "id": "bac96a3f",
      "metadata": {},
      "source": [
        "#### **Castillo, Maria Antonette O.**\n",
        "\n",
        "#### **CPE32S8**"
      ]
    },
    {
      "cell_type": "markdown",
      "id": "ba76c71a",
      "metadata": {},
      "source": [
        "--------"
      ]
    },
    {
      "cell_type": "markdown",
      "id": "downtown-relay",
      "metadata": {
        "id": "downtown-relay"
      },
      "source": [
        "#### Objective(s):\n",
        "\n",
        "This activity aims to demonstrate how to apply  regularization in neural networks"
      ]
    },
    {
      "cell_type": "markdown",
      "id": "weird-journal",
      "metadata": {
        "id": "weird-journal"
      },
      "source": [
        "#### Intended Learning Outcomes (ILOs):\n",
        "* Demonstrate how to build and train neural networks with regularization\n",
        "* Demonstrate how to visualize the model with regularization\n",
        "* Evaluate the result of model with regularization\n"
      ]
    },
    {
      "cell_type": "markdown",
      "id": "returning-harvard",
      "metadata": {
        "id": "returning-harvard"
      },
      "source": [
        "#### Resources:\n",
        "* Jupyter Notebook\n",
        "* MNIST\n"
      ]
    },
    {
      "cell_type": "markdown",
      "id": "virgin-webcam",
      "metadata": {
        "id": "virgin-webcam"
      },
      "source": [
        "#### Procedures\n",
        "Load the necessary libraries"
      ]
    },
    {
      "cell_type": "code",
      "execution_count": 1,
      "id": "changing-emergency",
      "metadata": {
        "id": "changing-emergency"
      },
      "outputs": [
        {
          "name": "stdout",
          "output_type": "stream",
          "text": [
            "WARNING:tensorflow:From c:\\Users\\maria\\AppData\\Local\\Programs\\Python\\Python311\\Lib\\site-packages\\keras\\src\\losses.py:2976: The name tf.losses.sparse_softmax_cross_entropy is deprecated. Please use tf.compat.v1.losses.sparse_softmax_cross_entropy instead.\n",
            "\n"
          ]
        }
      ],
      "source": [
        "from __future__ import print_function\n",
        "\n",
        "import keras\n",
        "from keras.datasets import mnist\n",
        "from keras.models import Sequential\n",
        "from keras.layers import Dense, Dropout\n",
        "from keras.optimizers import RMSprop\n",
        "\n",
        "import numpy as np\n",
        "import matplotlib.pyplot as plt\n",
        "%matplotlib inline"
      ]
    },
    {
      "cell_type": "markdown",
      "id": "central-drama",
      "metadata": {
        "id": "central-drama"
      },
      "source": [
        "Load the data, shuffled and split between train and test sets"
      ]
    },
    {
      "cell_type": "code",
      "execution_count": 2,
      "id": "egyptian-driving",
      "metadata": {
        "id": "egyptian-driving"
      },
      "outputs": [],
      "source": [
        "(x_train, y_train), (x_test, y_test) = mnist.load_data()"
      ]
    },
    {
      "cell_type": "markdown",
      "id": "creative-cricket",
      "metadata": {
        "id": "creative-cricket"
      },
      "source": [
        "Get the size of the sample train data"
      ]
    },
    {
      "cell_type": "code",
      "execution_count": 3,
      "id": "instrumental-funds",
      "metadata": {
        "id": "instrumental-funds"
      },
      "outputs": [
        {
          "data": {
            "text/plain": [
              "(28, 28)"
            ]
          },
          "execution_count": 3,
          "metadata": {},
          "output_type": "execute_result"
        }
      ],
      "source": [
        "x_train[0].shape"
      ]
    },
    {
      "cell_type": "markdown",
      "id": "atmospheric-carol",
      "metadata": {
        "id": "atmospheric-carol"
      },
      "source": [
        "Check the sample train data"
      ]
    },
    {
      "cell_type": "code",
      "execution_count": 4,
      "id": "mental-johnston",
      "metadata": {
        "id": "mental-johnston"
      },
      "outputs": [
        {
          "data": {
            "text/plain": [
              "array([[  0,   0,   0,   0,   0,   0,   0,   0,   0,   0,   0,   0,   0,\n",
              "          0,   0,   0,   0,   0,   0,   0,   0,   0,   0,   0,   0,   0,\n",
              "          0,   0],\n",
              "       [  0,   0,   0,   0,   0,   0,   0,   0,   0,   0,   0,   0,   0,\n",
              "          0,   0,   0,   0,   0,   0,   0,   0,   0,   0,   0,   0,   0,\n",
              "          0,   0],\n",
              "       [  0,   0,   0,   0,   0,   0,   0,   0,   0,   0,   0,   0,   0,\n",
              "          0,   0,   0,   0,   0,   0,   0,   0,   0,   0,   0,   0,   0,\n",
              "          0,   0],\n",
              "       [  0,   0,   0,   0,   0,   0,   0,   0,   0,   0,   0,   0,   0,\n",
              "          0,   0,   0,   0,   0,   0,   0,   0,   0,   0,   0,   0,   0,\n",
              "          0,   0],\n",
              "       [  0,   0,   0,   0,   0,   0,   0,   0,   0,   0,   0,   0,   0,\n",
              "          0,   0,   0,   0,   0,   0,   0,   0,   0,   0,   0,   0,   0,\n",
              "          0,   0],\n",
              "       [  0,   0,   0,   0,   0,   0,   0,   0,   0,   0,   0,  87, 138,\n",
              "        170, 253, 201, 244, 212, 222, 138,  86,  22,   0,   0,   0,   0,\n",
              "          0,   0],\n",
              "       [  0,   0,   0,   0,   0,   0,   0,   0,   0,   0,  95, 253, 252,\n",
              "        252, 252, 252, 253, 252, 252, 252, 252, 245,  80,   0,   0,   0,\n",
              "          0,   0],\n",
              "       [  0,   0,   0,   0,   0,   0,   0,   0,   0,  68, 246, 205,  69,\n",
              "         69,  69,  69,  69,  69,  69,  69, 205, 253, 240,  50,   0,   0,\n",
              "          0,   0],\n",
              "       [  0,   0,   0,   0,   0,   0,   0,   0,   0, 187, 252, 218,  34,\n",
              "          0,   0,   0,   0,   0,   0,   0, 116, 253, 252,  69,   0,   0,\n",
              "          0,   0],\n",
              "       [  0,   0,   0,   0,   0,   0,   0,   0, 116, 248, 252, 253,  92,\n",
              "          0,   0,   0,   0,   0,   0,  95, 230, 253, 157,   6,   0,   0,\n",
              "          0,   0],\n",
              "       [  0,   0,   0,   0,   0,   0,   0,   0, 116, 249, 253, 189,  42,\n",
              "          0,   0,   0,   0,  36, 170, 253, 243, 158,   0,   0,   0,   0,\n",
              "          0,   0],\n",
              "       [  0,   0,   0,   0,   0,   0,   0,   0,   0, 133, 252, 245, 140,\n",
              "         34,   0,   0,  57, 219, 252, 235,  60,   0,   0,   0,   0,   0,\n",
              "          0,   0],\n",
              "       [  0,   0,   0,   0,   0,   0,   0,   0,   0,  25, 205, 253, 252,\n",
              "        234, 184, 184, 253, 240, 100,  44,   0,   0,   0,   0,   0,   0,\n",
              "          0,   0],\n",
              "       [  0,   0,   0,   0,   0,   0,   0,   0,   0,   0,  21, 161, 219,\n",
              "        252, 252, 252, 234,  37,   0,   0,   0,   0,   0,   0,   0,   0,\n",
              "          0,   0],\n",
              "       [  0,   0,   0,   0,   0,   0,   0,   0,   0,   0,   0,  11, 203,\n",
              "        252, 252, 252, 251, 135,   0,   0,   0,   0,   0,   0,   0,   0,\n",
              "          0,   0],\n",
              "       [  0,   0,   0,   0,   0,   0,   0,   0,   0,   9,  76, 255, 253,\n",
              "        205, 168, 220, 255, 253, 137,   5,   0,   0,   0,   0,   0,   0,\n",
              "          0,   0],\n",
              "       [  0,   0,   0,   0,   0,   0,   0,   0,   0, 114, 252, 249, 132,\n",
              "         25,   0,   0, 180, 252, 252,  45,   0,   0,   0,   0,   0,   0,\n",
              "          0,   0],\n",
              "       [  0,   0,   0,   0,   0,   0,   0,   0,  51, 220, 252, 199,   0,\n",
              "          0,   0,   0,  38, 186, 252, 154,   7,   0,   0,   0,   0,   0,\n",
              "          0,   0],\n",
              "       [  0,   0,   0,   0,   0,   0,   0,   0, 184, 252, 252,  21,   0,\n",
              "          0,   0,   0,   0,  67, 252, 252,  22,   0,   0,   0,   0,   0,\n",
              "          0,   0],\n",
              "       [  0,   0,   0,   0,   0,   0,   0,   0, 184, 252, 200,   0,   0,\n",
              "          0,   0,   0,   0,  47, 252, 252,  22,   0,   0,   0,   0,   0,\n",
              "          0,   0],\n",
              "       [  0,   0,   0,   0,   0,   0,   0,   0, 185, 253, 201,   0,   0,\n",
              "          0,   0,   0,   3, 118, 253, 245,  21,   0,   0,   0,   0,   0,\n",
              "          0,   0],\n",
              "       [  0,   0,   0,   0,   0,   0,   0,   0, 163, 252, 252,   0,   0,\n",
              "          0,   0,   0,  97, 252, 252,  87,   0,   0,   0,   0,   0,   0,\n",
              "          0,   0],\n",
              "       [  0,   0,   0,   0,   0,   0,   0,   0,  51, 240, 252, 123,  70,\n",
              "         70, 112, 184, 222, 252, 170,  13,   0,   0,   0,   0,   0,   0,\n",
              "          0,   0],\n",
              "       [  0,   0,   0,   0,   0,   0,   0,   0,   0, 165, 252, 253, 252,\n",
              "        252, 252, 252, 245, 139,  13,   0,   0,   0,   0,   0,   0,   0,\n",
              "          0,   0],\n",
              "       [  0,   0,   0,   0,   0,   0,   0,   0,   0,   9,  75, 253, 252,\n",
              "        221, 137, 137,  21,   0,   0,   0,   0,   0,   0,   0,   0,   0,\n",
              "          0,   0],\n",
              "       [  0,   0,   0,   0,   0,   0,   0,   0,   0,   0,   0,   0,   0,\n",
              "          0,   0,   0,   0,   0,   0,   0,   0,   0,   0,   0,   0,   0,\n",
              "          0,   0],\n",
              "       [  0,   0,   0,   0,   0,   0,   0,   0,   0,   0,   0,   0,   0,\n",
              "          0,   0,   0,   0,   0,   0,   0,   0,   0,   0,   0,   0,   0,\n",
              "          0,   0],\n",
              "       [  0,   0,   0,   0,   0,   0,   0,   0,   0,   0,   0,   0,   0,\n",
              "          0,   0,   0,   0,   0,   0,   0,   0,   0,   0,   0,   0,   0,\n",
              "          0,   0]], dtype=uint8)"
            ]
          },
          "execution_count": 4,
          "metadata": {},
          "output_type": "execute_result"
        }
      ],
      "source": [
        "x_train[333]"
      ]
    },
    {
      "cell_type": "markdown",
      "id": "compact-disposal",
      "metadata": {
        "id": "compact-disposal"
      },
      "source": [
        "Check the corresponding label in the training set"
      ]
    },
    {
      "cell_type": "code",
      "execution_count": 5,
      "id": "cutting-gentleman",
      "metadata": {
        "id": "cutting-gentleman"
      },
      "outputs": [
        {
          "data": {
            "text/plain": [
              "8"
            ]
          },
          "execution_count": 5,
          "metadata": {},
          "output_type": "execute_result"
        }
      ],
      "source": [
        "\n",
        "y_train[333]"
      ]
    },
    {
      "cell_type": "markdown",
      "id": "af0e4819",
      "metadata": {},
      "source": [
        "Check the actual image"
      ]
    },
    {
      "cell_type": "code",
      "execution_count": 6,
      "id": "tight-motivation",
      "metadata": {
        "id": "tight-motivation"
      },
      "outputs": [
        {
          "data": {
            "text/plain": [
              "<matplotlib.image.AxesImage at 0x26a5b093c90>"
            ]
          },
          "execution_count": 6,
          "metadata": {},
          "output_type": "execute_result"
        },
        {
          "data": {
            "image/png": "[encoded data removed]",
            "text/plain": [
              "<Figure size 640x480 with 1 Axes>"
            ]
          },
          "metadata": {},
          "output_type": "display_data"
        }
      ],
      "source": [
        "\n",
        "plt.imshow(x_train[333], cmap='Greys_r')"
      ]
    },
    {
      "cell_type": "markdown",
      "id": "brutal-young",
      "metadata": {
        "id": "brutal-young"
      },
      "source": [
        "Check the shape of the x_train and x_test"
      ]
    },
    {
      "cell_type": "code",
      "execution_count": 7,
      "id": "residential-rouge",
      "metadata": {
        "id": "residential-rouge"
      },
      "outputs": [
        {
          "name": "stdout",
          "output_type": "stream",
          "text": [
            "(60000, 28, 28) train samples\n",
            "(10000, 28, 28) test samples\n"
          ]
        }
      ],
      "source": [
        "\n",
        "print(x_train.shape, 'train samples')\n",
        "print(x_test.shape, 'test samples')"
      ]
    },
    {
      "cell_type": "markdown",
      "id": "secret-parameter",
      "metadata": {
        "id": "secret-parameter"
      },
      "source": [
        "* Convert the x_train and x_test\n",
        "* Cast the numbers to floats\n",
        "* Normalize the inputs"
      ]
    },
    {
      "cell_type": "code",
      "execution_count": 8,
      "id": "intense-daisy",
      "metadata": {
        "id": "intense-daisy"
      },
      "outputs": [],
      "source": [
        "\n",
        "x_train = x_train.reshape(len(x_train), 28*28)\n",
        "x_test = x_test.reshape(len(x_test), 28*28)\n",
        "\n",
        "\n",
        "x_train = x_train.astype('float32')\n",
        "x_test = x_test.astype('float32')\n",
        "\n",
        "\n",
        "x_train /= 255\n",
        "x_test /= 255\n"
      ]
    },
    {
      "cell_type": "markdown",
      "id": "celtic-output",
      "metadata": {
        "id": "celtic-output"
      },
      "source": [
        "Convert class vectors to binary class matrices"
      ]
    },
    {
      "cell_type": "code",
      "execution_count": 9,
      "id": "confidential-incentive",
      "metadata": {
        "id": "confidential-incentive"
      },
      "outputs": [
        {
          "data": {
            "text/plain": [
              "array([0., 0., 0., 0., 0., 0., 0., 0., 1., 0.], dtype=float32)"
            ]
          },
          "execution_count": 9,
          "metadata": {},
          "output_type": "execute_result"
        }
      ],
      "source": [
        "\n",
        "num_classes = 10\n",
        "y_train = keras.utils.to_categorical(y_train, num_classes)\n",
        "y_test = keras.utils.to_categorical(y_test, num_classes)\n",
        "\n",
        "y_train[333]  # now the digit k is represented by a 1 in the kth entry (0-indexed) of the length 10 vector"
      ]
    },
    {
      "cell_type": "markdown",
      "id": "lightweight-walter",
      "metadata": {
        "id": "lightweight-walter"
      },
      "source": [
        "* Build the model with two hidden layers of size 64.\n",
        "* Use dropout of 0.2\n",
        "* Check the model summary"
      ]
    },
    {
      "cell_type": "code",
      "execution_count": 10,
      "id": "level-blair",
      "metadata": {
        "id": "level-blair"
      },
      "outputs": [
        {
          "name": "stdout",
          "output_type": "stream",
          "text": [
            "WARNING:tensorflow:From c:\\Users\\maria\\AppData\\Local\\Programs\\Python\\Python311\\Lib\\site-packages\\keras\\src\\backend.py:873: The name tf.get_default_graph is deprecated. Please use tf.compat.v1.get_default_graph instead.\n",
            "\n"
          ]
        }
      ],
      "source": [
        "\n",
        "model = Sequential()\n",
        "model.add(Dense(64, activation='relu', input_shape=(784,))) \n",
        "model.add(Dropout(0.2))\n",
        "model.add(Dense(64, activation='relu')) \n",
        "model.add(Dropout(0.2))\n",
        "model.add(Dense(10, activation='softmax'))"
      ]
    },
    {
      "cell_type": "code",
      "execution_count": 11,
      "id": "filled-class",
      "metadata": {
        "id": "filled-class"
      },
      "outputs": [
        {
          "name": "stdout",
          "output_type": "stream",
          "text": [
            "Model: \"sequential\"\n",
            "_________________________________________________________________\n",
            " Layer (type)                Output Shape              Param #   \n",
            "=================================================================\n",
            " dense (Dense)               (None, 64)                50240     \n",
            "                                                                 \n",
            " dropout (Dropout)           (None, 64)                0         \n",
            "                                                                 \n",
            " dense_1 (Dense)             (None, 64)                4160      \n",
            "                                                                 \n",
            " dropout_1 (Dropout)         (None, 64)                0         \n",
            "                                                                 \n",
            " dense_2 (Dense)             (None, 10)                650       \n",
            "                                                                 \n",
            "=================================================================\n",
            "Total params: 55050 (215.04 KB)\n",
            "Trainable params: 55050 (215.04 KB)\n",
            "Non-trainable params: 0 (0.00 Byte)\n",
            "_________________________________________________________________\n"
          ]
        }
      ],
      "source": [
        "model.summary()"
      ]
    },
    {
      "cell_type": "markdown",
      "id": "thrown-entry",
      "metadata": {
        "id": "thrown-entry"
      },
      "source": [
        "Compile the model using learning rate of 0.001 and optimizer of RMSprop"
      ]
    },
    {
      "cell_type": "code",
      "execution_count": 12,
      "id": "oriental-family",
      "metadata": {
        "id": "oriental-family"
      },
      "outputs": [
        {
          "name": "stderr",
          "output_type": "stream",
          "text": [
            "WARNING:absl:`lr` is deprecated in Keras optimizer, please use `learning_rate` or use the legacy optimizer, e.g.,tf.keras.optimizers.legacy.RMSprop.\n"
          ]
        },
        {
          "name": "stdout",
          "output_type": "stream",
          "text": [
            "Epoch 1/30\n",
            "WARNING:tensorflow:From c:\\Users\\maria\\AppData\\Local\\Programs\\Python\\Python311\\Lib\\site-packages\\keras\\src\\utils\\tf_utils.py:492: The name tf.ragged.RaggedTensorValue is deprecated. Please use tf.compat.v1.ragged.RaggedTensorValue instead.\n",
            "\n"
          ]
        },
        {
          "name": "stderr",
          "output_type": "stream",
          "text": [
            "WARNING:tensorflow:From c:\\Users\\maria\\AppData\\Local\\Programs\\Python\\Python311\\Lib\\site-packages\\keras\\src\\utils\\tf_utils.py:492: The name tf.ragged.RaggedTensorValue is deprecated. Please use tf.compat.v1.ragged.RaggedTensorValue instead.\n",
            "\n"
          ]
        },
        {
          "name": "stdout",
          "output_type": "stream",
          "text": [
            "WARNING:tensorflow:From c:\\Users\\maria\\AppData\\Local\\Programs\\Python\\Python311\\Lib\\site-packages\\keras\\src\\engine\\base_layer_utils.py:384: The name tf.executing_eagerly_outside_functions is deprecated. Please use tf.compat.v1.executing_eagerly_outside_functions instead.\n",
            "\n"
          ]
        },
        {
          "name": "stderr",
          "output_type": "stream",
          "text": [
            "WARNING:tensorflow:From c:\\Users\\maria\\AppData\\Local\\Programs\\Python\\Python311\\Lib\\site-packages\\keras\\src\\engine\\base_layer_utils.py:384: The name tf.executing_eagerly_outside_functions is deprecated. Please use tf.compat.v1.executing_eagerly_outside_functions instead.\n",
            "\n"
          ]
        },
        {
          "name": "stdout",
          "output_type": "stream",
          "text": [
            "469/469 [==============================] - 3s 4ms/step - loss: 0.5115 - accuracy: 0.8469 - val_loss: 0.2077 - val_accuracy: 0.9389\n",
            "Epoch 2/30\n",
            "469/469 [==============================] - 2s 3ms/step - loss: 0.2578 - accuracy: 0.9238 - val_loss: 0.1538 - val_accuracy: 0.9513\n",
            "Epoch 3/30\n",
            "469/469 [==============================] - 2s 3ms/step - loss: 0.2034 - accuracy: 0.9395 - val_loss: 0.1270 - val_accuracy: 0.9626\n",
            "Epoch 4/30\n",
            "469/469 [==============================] - 1s 3ms/step - loss: 0.1728 - accuracy: 0.9481 - val_loss: 0.1132 - val_accuracy: 0.9657\n",
            "Epoch 5/30\n",
            "469/469 [==============================] - 1s 3ms/step - loss: 0.1566 - accuracy: 0.9531 - val_loss: 0.1061 - val_accuracy: 0.9683\n",
            "Epoch 6/30\n",
            "469/469 [==============================] - 1s 3ms/step - loss: 0.1451 - accuracy: 0.9563 - val_loss: 0.1023 - val_accuracy: 0.9691\n",
            "Epoch 7/30\n",
            "469/469 [==============================] - 2s 4ms/step - loss: 0.1343 - accuracy: 0.9598 - val_loss: 0.1056 - val_accuracy: 0.9692\n",
            "Epoch 8/30\n",
            "469/469 [==============================] - 1s 3ms/step - loss: 0.1289 - accuracy: 0.9601 - val_loss: 0.0963 - val_accuracy: 0.9729\n",
            "Epoch 9/30\n",
            "469/469 [==============================] - 1s 3ms/step - loss: 0.1197 - accuracy: 0.9640 - val_loss: 0.0917 - val_accuracy: 0.9723\n",
            "Epoch 10/30\n",
            "469/469 [==============================] - 1s 3ms/step - loss: 0.1118 - accuracy: 0.9654 - val_loss: 0.0930 - val_accuracy: 0.9739\n",
            "Epoch 11/30\n",
            "469/469 [==============================] - 1s 3ms/step - loss: 0.1136 - accuracy: 0.9660 - val_loss: 0.0916 - val_accuracy: 0.9739\n",
            "Epoch 12/30\n",
            "469/469 [==============================] - 1s 3ms/step - loss: 0.1074 - accuracy: 0.9670 - val_loss: 0.0876 - val_accuracy: 0.9751\n",
            "Epoch 13/30\n",
            "469/469 [==============================] - 1s 3ms/step - loss: 0.1040 - accuracy: 0.9688 - val_loss: 0.0946 - val_accuracy: 0.9732\n",
            "Epoch 14/30\n",
            "469/469 [==============================] - 1s 3ms/step - loss: 0.1007 - accuracy: 0.9690 - val_loss: 0.0865 - val_accuracy: 0.9754\n",
            "Epoch 15/30\n",
            "469/469 [==============================] - 1s 3ms/step - loss: 0.0973 - accuracy: 0.9703 - val_loss: 0.0865 - val_accuracy: 0.9758\n",
            "Epoch 16/30\n",
            "469/469 [==============================] - 1s 3ms/step - loss: 0.0961 - accuracy: 0.9703 - val_loss: 0.0903 - val_accuracy: 0.9748\n",
            "Epoch 17/30\n",
            "469/469 [==============================] - 1s 3ms/step - loss: 0.0955 - accuracy: 0.9708 - val_loss: 0.0878 - val_accuracy: 0.9766\n",
            "Epoch 18/30\n",
            "469/469 [==============================] - 1s 3ms/step - loss: 0.0908 - accuracy: 0.9716 - val_loss: 0.0905 - val_accuracy: 0.9753\n",
            "Epoch 19/30\n",
            "469/469 [==============================] - 2s 3ms/step - loss: 0.0902 - accuracy: 0.9722 - val_loss: 0.0954 - val_accuracy: 0.9767\n",
            "Epoch 20/30\n",
            "469/469 [==============================] - 1s 3ms/step - loss: 0.0873 - accuracy: 0.9735 - val_loss: 0.0860 - val_accuracy: 0.9768\n",
            "Epoch 21/30\n",
            "469/469 [==============================] - 1s 3ms/step - loss: 0.0836 - accuracy: 0.9747 - val_loss: 0.0902 - val_accuracy: 0.9767\n",
            "Epoch 22/30\n",
            "469/469 [==============================] - 1s 3ms/step - loss: 0.0829 - accuracy: 0.9750 - val_loss: 0.0915 - val_accuracy: 0.9767\n",
            "Epoch 23/30\n",
            "469/469 [==============================] - 1s 3ms/step - loss: 0.0832 - accuracy: 0.9749 - val_loss: 0.0854 - val_accuracy: 0.9776\n",
            "Epoch 24/30\n",
            "469/469 [==============================] - 1s 3ms/step - loss: 0.0813 - accuracy: 0.9751 - val_loss: 0.0902 - val_accuracy: 0.9780\n",
            "Epoch 25/30\n",
            "469/469 [==============================] - 1s 3ms/step - loss: 0.0818 - accuracy: 0.9750 - val_loss: 0.0900 - val_accuracy: 0.9777\n",
            "Epoch 26/30\n",
            "469/469 [==============================] - 1s 3ms/step - loss: 0.0799 - accuracy: 0.9753 - val_loss: 0.0962 - val_accuracy: 0.9770\n",
            "Epoch 27/30\n",
            "469/469 [==============================] - 1s 3ms/step - loss: 0.0783 - accuracy: 0.9760 - val_loss: 0.0916 - val_accuracy: 0.9775\n",
            "Epoch 28/30\n",
            "469/469 [==============================] - 1s 3ms/step - loss: 0.0810 - accuracy: 0.9758 - val_loss: 0.0971 - val_accuracy: 0.9776\n",
            "Epoch 29/30\n",
            "469/469 [==============================] - 1s 3ms/step - loss: 0.0788 - accuracy: 0.9768 - val_loss: 0.0965 - val_accuracy: 0.9758\n",
            "Epoch 30/30\n",
            "469/469 [==============================] - 1s 3ms/step - loss: 0.0756 - accuracy: 0.9774 - val_loss: 0.1004 - val_accuracy: 0.9773\n"
          ]
        }
      ],
      "source": [
        "learning_rate = .001\n",
        "model.compile(loss='categorical_crossentropy',\n",
        "              optimizer=RMSprop(lr=learning_rate),\n",
        "              metrics=['accuracy'])\n",
        "batch_size = 128  # mini-batch with 128 examples\n",
        "epochs = 30\n",
        "history = model.fit(\n",
        "    x_train, y_train,\n",
        "    batch_size=batch_size,\n",
        "    epochs=epochs,\n",
        "    verbose=1,\n",
        "    validation_data=(x_test, y_test))"
      ]
    },
    {
      "cell_type": "markdown",
      "id": "forty-trout",
      "metadata": {
        "id": "forty-trout"
      },
      "source": [
        "Use Keras evaluate function to evaluate performance on the test set"
      ]
    },
    {
      "cell_type": "code",
      "execution_count": 13,
      "id": "random-ballet",
      "metadata": {
        "id": "random-ballet"
      },
      "outputs": [
        {
          "name": "stdout",
          "output_type": "stream",
          "text": [
            "Test loss: 0.10035298019647598\n",
            "Test accuracy: 0.9772999882698059\n"
          ]
        }
      ],
      "source": [
        "\n",
        "score = model.evaluate(x_test, y_test, verbose=0)\n",
        "print('Test loss:', score[0])\n",
        "print('Test accuracy:', score[1])"
      ]
    },
    {
      "cell_type": "markdown",
      "id": "fatal-tournament",
      "metadata": {
        "id": "fatal-tournament"
      },
      "source": [
        "Interpret the result"
      ]
    },
    {
      "cell_type": "markdown",
      "id": "german-breed",
      "metadata": {
        "id": "german-breed"
      },
      "source": [
        "### ***The model with learning rate of 0.001, batch size of 128, and epochs of 30 resulted to approximately 97.73%, which is a high accuracy. It also has a minimal loss of 0.01 which indicates that the predictions are closer to the actual label. This means that the model has the ability to predict the numbers in MNIST dataset. Furthermore, the model consists of two hidden layer with 64 neurons, and relu as their activation function. Meanwhile, the final layer has 10 neurons since there are 10 classes in the dataset. Softmax activation is implemented because it is used for multi-class classification which produces a set of probabilities.***"
      ]
    },
    {
      "cell_type": "code",
      "execution_count": 14,
      "id": "imported-impression",
      "metadata": {
        "id": "imported-impression"
      },
      "outputs": [
        {
          "data": {
            "image/png": "[encoded data removed]",
            "text/plain": [
              "<Figure size 1200x600 with 2 Axes>"
            ]
          },
          "metadata": {},
          "output_type": "display_data"
        }
      ],
      "source": [
        "def plot_loss_accuracy(history,title):\n",
        "    fig = plt.figure(figsize=(12, 6))\n",
        "    ax = fig.add_subplot(1, 2, 1)\n",
        "    ax.plot(history.history[\"loss\"],'r-x', label=\"Train Loss\")\n",
        "    ax.plot(history.history[\"val_loss\"],'b-x', label=\"Validation Loss\")\n",
        "    ax.legend()\n",
        "    ax.set_title('cross_entropy loss')\n",
        "    ax.grid(True)\n",
        "\n",
        "\n",
        "    ax = fig.add_subplot(1, 2, 2)\n",
        "    ax.plot(history.history[\"accuracy\"],'r-x', label=\"Train Accuracy\")\n",
        "    ax.plot(history.history[\"val_accuracy\"],'b-x', label=\"Validation Accuracy\")\n",
        "    ax.legend()\n",
        "    ax.set_title('accuracy')\n",
        "    ax.grid(True)\n",
        "\n",
        "    plt.suptitle(title)\n",
        "\n",
        "\n",
        "plot_loss_accuracy(history, '')"
      ]
    },
    {
      "cell_type": "markdown",
      "id": "acoustic-recipient",
      "metadata": {
        "id": "acoustic-recipient"
      },
      "source": [
        "Interpret the result"
      ]
    },
    {
      "cell_type": "markdown",
      "id": "cross-hotel",
      "metadata": {
        "id": "cross-hotel"
      },
      "source": [
        "### ***The graph of accuracy and loss for validation and training set indicates that the model is not overfitting. For training set, as the number of epochs increases, the accuracy also continously increases and the loss keeps on decreasing. It means that the model is actually learning from the data and improving its performance. Moreover, beyond 15 epochs, the loss and accuracy for validation set stabilizes in a high accuracy and minimal loss. This means that the model is good at predicting even the unseen data, and no need for adding more epochs.***"
      ]
    },
    {
      "cell_type": "markdown",
      "id": "three-terrorist",
      "metadata": {
        "id": "three-terrorist"
      },
      "source": [
        "#### Supplementary Activity\n",
        "\n",
        "* Use the Keras \"Sequential\" functionality to build a new model (model_1) with the following specifications:\n",
        "\n",
        "1. Two hidden layers.\n",
        "2. First hidden layer of size 400 and second of size 300\n",
        "3. Dropout of .4 at each layer\n",
        "4. How many parameters does your model have?  How does it compare with the previous model?\n",
        "5. Train this model for 20 epochs with RMSProp at a learning rate of .001 and a batch size of 128\n",
        "6. Use at least two  regularization techniques and apply it to the new model (model_2)\n",
        "7. Train this model for your preferred epochs , learning rate, batch size and optimizer\n",
        "8. Compare the accuracy and loss (training and validation) of model_1 and model_2"
      ]
    },
    {
      "cell_type": "code",
      "execution_count": 162,
      "id": "responsible-preserve",
      "metadata": {
        "id": "responsible-preserve"
      },
      "outputs": [],
      "source": [
        "import pandas as pd\n",
        "\n",
        "apple = pd.read_csv(r'C:\\Users\\maria\\Downloads\\apple_quality.csv') # Apple Quality Dataset"
      ]
    },
    {
      "cell_type": "code",
      "execution_count": 163,
      "id": "1b3fb388",
      "metadata": {},
      "outputs": [
        {
          "data": {
            "text/html": [
              "<div>\n",
              "<style scoped>\n",
              "    .dataframe tbody tr th:only-of-type {\n",
              "        vertical-align: middle;\n",
              "    }\n",
              "\n",
              "    .dataframe tbody tr th {\n",
              "        vertical-align: top;\n",
              "    }\n",
              "\n",
              "    .dataframe thead th {\n",
              "        text-align: right;\n",
              "    }\n",
              "</style>\n",
              "<table border=\"1\" class=\"dataframe\">\n",
              "  <thead>\n",
              "    <tr style=\"text-align: right;\">\n",
              "      <th></th>\n",
              "      <th>A_id</th>\n",
              "      <th>Size</th>\n",
              "      <th>Weight</th>\n",
              "      <th>Sweetness</th>\n",
              "      <th>Crunchiness</th>\n",
              "      <th>Juiciness</th>\n",
              "      <th>Ripeness</th>\n",
              "      <th>Acidity</th>\n",
              "      <th>Quality</th>\n",
              "    </tr>\n",
              "  </thead>\n",
              "  <tbody>\n",
              "    <tr>\n",
              "      <th>0</th>\n",
              "      <td>0.0</td>\n",
              "      <td>-3.970049</td>\n",
              "      <td>-2.512336</td>\n",
              "      <td>5.346330</td>\n",
              "      <td>-1.012009</td>\n",
              "      <td>1.844900</td>\n",
              "      <td>0.329840</td>\n",
              "      <td>-0.491590483</td>\n",
              "      <td>good</td>\n",
              "    </tr>\n",
              "    <tr>\n",
              "      <th>1</th>\n",
              "      <td>1.0</td>\n",
              "      <td>-1.195217</td>\n",
              "      <td>-2.839257</td>\n",
              "      <td>3.664059</td>\n",
              "      <td>1.588232</td>\n",
              "      <td>0.853286</td>\n",
              "      <td>0.867530</td>\n",
              "      <td>-0.722809367</td>\n",
              "      <td>good</td>\n",
              "    </tr>\n",
              "    <tr>\n",
              "      <th>2</th>\n",
              "      <td>2.0</td>\n",
              "      <td>-0.292024</td>\n",
              "      <td>-1.351282</td>\n",
              "      <td>-1.738429</td>\n",
              "      <td>-0.342616</td>\n",
              "      <td>2.838636</td>\n",
              "      <td>-0.038033</td>\n",
              "      <td>2.621636473</td>\n",
              "      <td>bad</td>\n",
              "    </tr>\n",
              "    <tr>\n",
              "      <th>3</th>\n",
              "      <td>3.0</td>\n",
              "      <td>-0.657196</td>\n",
              "      <td>-2.271627</td>\n",
              "      <td>1.324874</td>\n",
              "      <td>-0.097875</td>\n",
              "      <td>3.637970</td>\n",
              "      <td>-3.413761</td>\n",
              "      <td>0.790723217</td>\n",
              "      <td>good</td>\n",
              "    </tr>\n",
              "    <tr>\n",
              "      <th>4</th>\n",
              "      <td>4.0</td>\n",
              "      <td>1.364217</td>\n",
              "      <td>-1.296612</td>\n",
              "      <td>-0.384658</td>\n",
              "      <td>-0.553006</td>\n",
              "      <td>3.030874</td>\n",
              "      <td>-1.303849</td>\n",
              "      <td>0.501984036</td>\n",
              "      <td>good</td>\n",
              "    </tr>\n",
              "  </tbody>\n",
              "</table>\n",
              "</div>"
            ],
            "text/plain": [
              "   A_id      Size    Weight  Sweetness  Crunchiness  Juiciness  Ripeness  \\\n",
              "0   0.0 -3.970049 -2.512336   5.346330    -1.012009   1.844900  0.329840   \n",
              "1   1.0 -1.195217 -2.839257   3.664059     1.588232   0.853286  0.867530   \n",
              "2   2.0 -0.292024 -1.351282  -1.738429    -0.342616   2.838636 -0.038033   \n",
              "3   3.0 -0.657196 -2.271627   1.324874    -0.097875   3.637970 -3.413761   \n",
              "4   4.0  1.364217 -1.296612  -0.384658    -0.553006   3.030874 -1.303849   \n",
              "\n",
              "        Acidity Quality  \n",
              "0  -0.491590483    good  \n",
              "1  -0.722809367    good  \n",
              "2   2.621636473     bad  \n",
              "3   0.790723217    good  \n",
              "4   0.501984036    good  "
            ]
          },
          "execution_count": 163,
          "metadata": {},
          "output_type": "execute_result"
        }
      ],
      "source": [
        "apple.head()"
      ]
    },
    {
      "cell_type": "code",
      "execution_count": 164,
      "id": "c1e35ccc",
      "metadata": {},
      "outputs": [
        {
          "data": {
            "text/plain": [
              "A_id           1\n",
              "Size           1\n",
              "Weight         1\n",
              "Sweetness      1\n",
              "Crunchiness    1\n",
              "Juiciness      1\n",
              "Ripeness       1\n",
              "Acidity        0\n",
              "Quality        1\n",
              "dtype: int64"
            ]
          },
          "execution_count": 164,
          "metadata": {},
          "output_type": "execute_result"
        }
      ],
      "source": [
        "apple.isnull().sum() # Checking if there's any null values"
      ]
    },
    {
      "cell_type": "code",
      "execution_count": 165,
      "id": "11bef685",
      "metadata": {},
      "outputs": [],
      "source": [
        "apple = apple.dropna() # Removing the null values"
      ]
    },
    {
      "cell_type": "code",
      "execution_count": 166,
      "id": "5f9ca402",
      "metadata": {},
      "outputs": [
        {
          "data": {
            "text/plain": [
              "A_id           float64\n",
              "Size           float64\n",
              "Weight         float64\n",
              "Sweetness      float64\n",
              "Crunchiness    float64\n",
              "Juiciness      float64\n",
              "Ripeness       float64\n",
              "Acidity         object\n",
              "Quality         object\n",
              "dtype: object"
            ]
          },
          "execution_count": 166,
          "metadata": {},
          "output_type": "execute_result"
        }
      ],
      "source": [
        "apple.dtypes # Checking the data types"
      ]
    },
    {
      "cell_type": "code",
      "execution_count": 167,
      "id": "3bd61fc3",
      "metadata": {},
      "outputs": [],
      "source": [
        "apple['Acidity'] = apple['Acidity'].astype(float) # Converting the Acidity feature to float"
      ]
    },
    {
      "cell_type": "code",
      "execution_count": 168,
      "id": "5d103d92",
      "metadata": {},
      "outputs": [],
      "source": [
        "from sklearn.preprocessing import LabelEncoder\n",
        "\n",
        "label_encoder = LabelEncoder()\n",
        "\n",
        "apple.Quality = label_encoder.fit_transform(apple.Quality) # Label Encoding for the target variable"
      ]
    },
    {
      "cell_type": "code",
      "execution_count": 169,
      "id": "d626b4cf",
      "metadata": {},
      "outputs": [
        {
          "data": {
            "text/html": [
              "<div>\n",
              "<style scoped>\n",
              "    .dataframe tbody tr th:only-of-type {\n",
              "        vertical-align: middle;\n",
              "    }\n",
              "\n",
              "    .dataframe tbody tr th {\n",
              "        vertical-align: top;\n",
              "    }\n",
              "\n",
              "    .dataframe thead th {\n",
              "        text-align: right;\n",
              "    }\n",
              "</style>\n",
              "<table border=\"1\" class=\"dataframe\">\n",
              "  <thead>\n",
              "    <tr style=\"text-align: right;\">\n",
              "      <th></th>\n",
              "      <th>A_id</th>\n",
              "      <th>Size</th>\n",
              "      <th>Weight</th>\n",
              "      <th>Sweetness</th>\n",
              "      <th>Crunchiness</th>\n",
              "      <th>Juiciness</th>\n",
              "      <th>Ripeness</th>\n",
              "      <th>Acidity</th>\n",
              "      <th>Quality</th>\n",
              "    </tr>\n",
              "  </thead>\n",
              "  <tbody>\n",
              "    <tr>\n",
              "      <th>0</th>\n",
              "      <td>-1.731618</td>\n",
              "      <td>-1.798424</td>\n",
              "      <td>-0.950373</td>\n",
              "      <td>2.993421</td>\n",
              "      <td>-1.424150</td>\n",
              "      <td>0.690545</td>\n",
              "      <td>-0.089872</td>\n",
              "      <td>-0.269415</td>\n",
              "      <td>1</td>\n",
              "    </tr>\n",
              "    <tr>\n",
              "      <th>1</th>\n",
              "      <td>-1.730752</td>\n",
              "      <td>-0.359060</td>\n",
              "      <td>-1.154404</td>\n",
              "      <td>2.127698</td>\n",
              "      <td>0.429746</td>\n",
              "      <td>0.176767</td>\n",
              "      <td>0.197020</td>\n",
              "      <td>-0.378997</td>\n",
              "      <td>1</td>\n",
              "    </tr>\n",
              "    <tr>\n",
              "      <th>2</th>\n",
              "      <td>-1.729886</td>\n",
              "      <td>0.109445</td>\n",
              "      <td>-0.225759</td>\n",
              "      <td>-0.652507</td>\n",
              "      <td>-0.946892</td>\n",
              "      <td>1.205422</td>\n",
              "      <td>-0.286156</td>\n",
              "      <td>1.206044</td>\n",
              "      <td>0</td>\n",
              "    </tr>\n",
              "    <tr>\n",
              "      <th>3</th>\n",
              "      <td>-1.729020</td>\n",
              "      <td>-0.079977</td>\n",
              "      <td>-0.800146</td>\n",
              "      <td>0.923916</td>\n",
              "      <td>-0.772399</td>\n",
              "      <td>1.619575</td>\n",
              "      <td>-2.087320</td>\n",
              "      <td>0.338315</td>\n",
              "      <td>1</td>\n",
              "    </tr>\n",
              "    <tr>\n",
              "      <th>4</th>\n",
              "      <td>-1.728154</td>\n",
              "      <td>0.968573</td>\n",
              "      <td>-0.191640</td>\n",
              "      <td>0.044164</td>\n",
              "      <td>-1.096894</td>\n",
              "      <td>1.305025</td>\n",
              "      <td>-0.961548</td>\n",
              "      <td>0.201472</td>\n",
              "      <td>1</td>\n",
              "    </tr>\n",
              "    <tr>\n",
              "      <th>...</th>\n",
              "      <td>...</td>\n",
              "      <td>...</td>\n",
              "      <td>...</td>\n",
              "      <td>...</td>\n",
              "      <td>...</td>\n",
              "      <td>...</td>\n",
              "      <td>...</td>\n",
              "      <td>...</td>\n",
              "      <td>...</td>\n",
              "    </tr>\n",
              "    <tr>\n",
              "      <th>3995</th>\n",
              "      <td>1.728154</td>\n",
              "      <td>0.291729</td>\n",
              "      <td>-0.048594</td>\n",
              "      <td>-1.669449</td>\n",
              "      <td>-0.365345</td>\n",
              "      <td>0.614425</td>\n",
              "      <td>0.931482</td>\n",
              "      <td>0.028866</td>\n",
              "      <td>0</td>\n",
              "    </tr>\n",
              "    <tr>\n",
              "      <th>3996</th>\n",
              "      <td>1.729020</td>\n",
              "      <td>0.108878</td>\n",
              "      <td>1.834105</td>\n",
              "      <td>0.137124</td>\n",
              "      <td>-1.159058</td>\n",
              "      <td>-0.252634</td>\n",
              "      <td>-0.846326</td>\n",
              "      <td>0.842347</td>\n",
              "      <td>1</td>\n",
              "    </tr>\n",
              "    <tr>\n",
              "      <th>3997</th>\n",
              "      <td>1.729886</td>\n",
              "      <td>-1.105655</td>\n",
              "      <td>-0.716904</td>\n",
              "      <td>-1.013784</td>\n",
              "      <td>-0.234036</td>\n",
              "      <td>0.874379</td>\n",
              "      <td>2.275957</td>\n",
              "      <td>-0.668950</td>\n",
              "      <td>0</td>\n",
              "    </tr>\n",
              "    <tr>\n",
              "      <th>3998</th>\n",
              "      <td>1.730752</td>\n",
              "      <td>-1.818112</td>\n",
              "      <td>-0.492908</td>\n",
              "      <td>1.459901</td>\n",
              "      <td>-0.845446</td>\n",
              "      <td>0.854549</td>\n",
              "      <td>-0.151419</td>\n",
              "      <td>-1.093171</td>\n",
              "      <td>1</td>\n",
              "    </tr>\n",
              "    <tr>\n",
              "      <th>3999</th>\n",
              "      <td>1.731618</td>\n",
              "      <td>0.405409</td>\n",
              "      <td>-0.453071</td>\n",
              "      <td>0.304496</td>\n",
              "      <td>-1.525439</td>\n",
              "      <td>0.390954</td>\n",
              "      <td>-0.680212</td>\n",
              "      <td>0.721761</td>\n",
              "      <td>1</td>\n",
              "    </tr>\n",
              "  </tbody>\n",
              "</table>\n",
              "<p>4000 rows × 9 columns</p>\n",
              "</div>"
            ],
            "text/plain": [
              "          A_id      Size    Weight  Sweetness  Crunchiness  Juiciness  \\\n",
              "0    -1.731618 -1.798424 -0.950373   2.993421    -1.424150   0.690545   \n",
              "1    -1.730752 -0.359060 -1.154404   2.127698     0.429746   0.176767   \n",
              "2    -1.729886  0.109445 -0.225759  -0.652507    -0.946892   1.205422   \n",
              "3    -1.729020 -0.079977 -0.800146   0.923916    -0.772399   1.619575   \n",
              "4    -1.728154  0.968573 -0.191640   0.044164    -1.096894   1.305025   \n",
              "...        ...       ...       ...        ...          ...        ...   \n",
              "3995  1.728154  0.291729 -0.048594  -1.669449    -0.365345   0.614425   \n",
              "3996  1.729020  0.108878  1.834105   0.137124    -1.159058  -0.252634   \n",
              "3997  1.729886 -1.105655 -0.716904  -1.013784    -0.234036   0.874379   \n",
              "3998  1.730752 -1.818112 -0.492908   1.459901    -0.845446   0.854549   \n",
              "3999  1.731618  0.405409 -0.453071   0.304496    -1.525439   0.390954   \n",
              "\n",
              "      Ripeness   Acidity  Quality  \n",
              "0    -0.089872 -0.269415        1  \n",
              "1     0.197020 -0.378997        1  \n",
              "2    -0.286156  1.206044        0  \n",
              "3    -2.087320  0.338315        1  \n",
              "4    -0.961548  0.201472        1  \n",
              "...        ...       ...      ...  \n",
              "3995  0.931482  0.028866        0  \n",
              "3996 -0.846326  0.842347        1  \n",
              "3997  2.275957 -0.668950        0  \n",
              "3998 -0.151419 -1.093171        1  \n",
              "3999 -0.680212  0.721761        1  \n",
              "\n",
              "[4000 rows x 9 columns]"
            ]
          },
          "execution_count": 169,
          "metadata": {},
          "output_type": "execute_result"
        }
      ],
      "source": [
        "from sklearn.preprocessing import StandardScaler\n",
        "\n",
        "scaler = StandardScaler()\n",
        "\n",
        "apple.iloc[:, :-1] = scaler.fit_transform(apple.iloc[:, :-1]) # Scaling the features\n",
        "apple"
      ]
    },
    {
      "cell_type": "code",
      "execution_count": 170,
      "id": "4f280c43",
      "metadata": {},
      "outputs": [],
      "source": [
        "X = apple.iloc[:, :-1] # Independent Varables (all columns except the last one)\n",
        "y = apple.iloc[:, -1:] # Dependent Variable (last column)"
      ]
    },
    {
      "cell_type": "code",
      "execution_count": 171,
      "id": "f5e26cb6",
      "metadata": {},
      "outputs": [],
      "source": [
        "from sklearn.model_selection import train_test_split \n",
        "\n",
        "# Splitting the dataset to testing and training set\n",
        "x_train, x_test, y_train, y_test = train_test_split(X, y, test_size=0.2,\n",
        "                                                    random_state=41,\n",
        "                                                    shuffle=True) "
      ]
    },
    {
      "cell_type": "code",
      "execution_count": 172,
      "id": "b0dd9051",
      "metadata": {},
      "outputs": [
        {
          "name": "stdout",
          "output_type": "stream",
          "text": [
            "(3200, 8) x_train samples\n",
            "(800, 8) x_test samples\n",
            "(3200, 1) y_train samples\n",
            "(800, 1) y_test samples\n"
          ]
        }
      ],
      "source": [
        "# Checking the number of samples\n",
        "print(x_train.shape, 'x_train samples')\n",
        "print(x_test.shape, 'x_test samples')\n",
        "print(y_train.shape, 'y_train samples')\n",
        "print(y_test.shape, 'y_test samples')"
      ]
    },
    {
      "cell_type": "code",
      "execution_count": 173,
      "id": "56333aba",
      "metadata": {},
      "outputs": [],
      "source": [
        "# Creating the model_1 based on the instructions\n",
        "model_1 = Sequential()\n",
        "model_1.add(Dense(400, activation='relu', input_shape=(8,))) # First hidden layer with 400 neurons\n",
        "model_1.add(Dropout(0.4)) # Dropout of 0.4 in the first hidden layer\n",
        "model_1.add(Dense(300, activation='relu')) # Second hidden layer with 300 neurons\n",
        "model_1.add(Dropout(0.4)) # Dropout of 0.4 in the second hidden layer\n",
        "model_1.add(Dense(1, activation='sigmoid')) # Final layer with sigmoid activation function"
      ]
    },
    {
      "cell_type": "code",
      "execution_count": 174,
      "id": "b5bb2f69",
      "metadata": {},
      "outputs": [
        {
          "name": "stdout",
          "output_type": "stream",
          "text": [
            "Model: \"sequential_15\"\n",
            "_________________________________________________________________\n",
            " Layer (type)                Output Shape              Param #   \n",
            "=================================================================\n",
            " dense_52 (Dense)            (None, 400)               3600      \n",
            "                                                                 \n",
            " dropout_37 (Dropout)        (None, 400)               0         \n",
            "                                                                 \n",
            " dense_53 (Dense)            (None, 300)               120300    \n",
            "                                                                 \n",
            " dropout_38 (Dropout)        (None, 300)               0         \n",
            "                                                                 \n",
            " dense_54 (Dense)            (None, 1)                 301       \n",
            "                                                                 \n",
            "=================================================================\n",
            "Total params: 124201 (485.16 KB)\n",
            "Trainable params: 124201 (485.16 KB)\n",
            "Non-trainable params: 0 (0.00 Byte)\n",
            "_________________________________________________________________\n"
          ]
        }
      ],
      "source": [
        "model_1.summary()"
      ]
    },
    {
      "cell_type": "markdown",
      "id": "cf710c6f",
      "metadata": {},
      "source": [
        "### ***The summary of the model shows that the first hidden layer has an ouput shape of 400 while the second hidden layer has 300. The final layer has only one neuron since the apple dataset is a binary classification. Moreover, the layers' parameter are computed by adding the weights and biases, which has a formula of \"(n x m) + m\", wherein n = number of input and m = number of neurons. In this case, the first hidden layer has 8 inputs with 400 number of neurons, upon computing it using the formula, the result is 3,600. Next, the second hidden layer will use the output size of the previous dense layer as its input size: (400 x 300) + 300 = 120,300. Then, the final layer's parameter is computed with the equation of (300 x 1) + 1 = 301. Meanwhile, the dropout layer has no parameter to learn since it is a regularization technique that prevent overfitting by randomly dropping out some units during the training.***"
      ]
    },
    {
      "cell_type": "code",
      "execution_count": 175,
      "id": "1108d5de",
      "metadata": {},
      "outputs": [
        {
          "name": "stderr",
          "output_type": "stream",
          "text": [
            "WARNING:absl:`lr` is deprecated in Keras optimizer, please use `learning_rate` or use the legacy optimizer, e.g.,tf.keras.optimizers.legacy.RMSprop.\n"
          ]
        },
        {
          "name": "stdout",
          "output_type": "stream",
          "text": [
            "Epoch 1/20\n",
            "25/25 [==============================] - 1s 12ms/step - loss: 0.4984 - accuracy: 0.7606 - val_loss: 0.4094 - val_accuracy: 0.8138\n",
            "Epoch 2/20\n",
            "25/25 [==============================] - 0s 5ms/step - loss: 0.3756 - accuracy: 0.8294 - val_loss: 0.3572 - val_accuracy: 0.8350\n",
            "Epoch 3/20\n",
            "25/25 [==============================] - 0s 5ms/step - loss: 0.3456 - accuracy: 0.8462 - val_loss: 0.3239 - val_accuracy: 0.8487\n",
            "Epoch 4/20\n",
            "25/25 [==============================] - 0s 5ms/step - loss: 0.3220 - accuracy: 0.8562 - val_loss: 0.3098 - val_accuracy: 0.8575\n",
            "Epoch 5/20\n",
            "25/25 [==============================] - 0s 5ms/step - loss: 0.3042 - accuracy: 0.8603 - val_loss: 0.3130 - val_accuracy: 0.8625\n",
            "Epoch 6/20\n",
            "25/25 [==============================] - 0s 5ms/step - loss: 0.3079 - accuracy: 0.8634 - val_loss: 0.3009 - val_accuracy: 0.8600\n",
            "Epoch 7/20\n",
            "25/25 [==============================] - 0s 5ms/step - loss: 0.3014 - accuracy: 0.8728 - val_loss: 0.2978 - val_accuracy: 0.8637\n",
            "Epoch 8/20\n",
            "25/25 [==============================] - 0s 5ms/step - loss: 0.2905 - accuracy: 0.8725 - val_loss: 0.2936 - val_accuracy: 0.8675\n",
            "Epoch 9/20\n",
            "25/25 [==============================] - 0s 5ms/step - loss: 0.2906 - accuracy: 0.8694 - val_loss: 0.2984 - val_accuracy: 0.8700\n",
            "Epoch 10/20\n",
            "25/25 [==============================] - 0s 5ms/step - loss: 0.2876 - accuracy: 0.8716 - val_loss: 0.2933 - val_accuracy: 0.8763\n",
            "Epoch 11/20\n",
            "25/25 [==============================] - 0s 5ms/step - loss: 0.2788 - accuracy: 0.8775 - val_loss: 0.2966 - val_accuracy: 0.8725\n",
            "Epoch 12/20\n",
            "25/25 [==============================] - 0s 5ms/step - loss: 0.2728 - accuracy: 0.8784 - val_loss: 0.2774 - val_accuracy: 0.8750\n",
            "Epoch 13/20\n",
            "25/25 [==============================] - 0s 5ms/step - loss: 0.2688 - accuracy: 0.8834 - val_loss: 0.2883 - val_accuracy: 0.8675\n",
            "Epoch 14/20\n",
            "25/25 [==============================] - 0s 5ms/step - loss: 0.2630 - accuracy: 0.8894 - val_loss: 0.2764 - val_accuracy: 0.8838\n",
            "Epoch 15/20\n",
            "25/25 [==============================] - 0s 5ms/step - loss: 0.2688 - accuracy: 0.8859 - val_loss: 0.2707 - val_accuracy: 0.8813\n",
            "Epoch 16/20\n",
            "25/25 [==============================] - 0s 5ms/step - loss: 0.2561 - accuracy: 0.8838 - val_loss: 0.2754 - val_accuracy: 0.8763\n",
            "Epoch 17/20\n",
            "25/25 [==============================] - 0s 5ms/step - loss: 0.2523 - accuracy: 0.8863 - val_loss: 0.2697 - val_accuracy: 0.8775\n",
            "Epoch 18/20\n",
            "25/25 [==============================] - 0s 5ms/step - loss: 0.2522 - accuracy: 0.8878 - val_loss: 0.2822 - val_accuracy: 0.8763\n",
            "Epoch 19/20\n",
            "25/25 [==============================] - 0s 5ms/step - loss: 0.2488 - accuracy: 0.8922 - val_loss: 0.2672 - val_accuracy: 0.8863\n",
            "Epoch 20/20\n",
            "25/25 [==============================] - 0s 5ms/step - loss: 0.2418 - accuracy: 0.8959 - val_loss: 0.2624 - val_accuracy: 0.8913\n"
          ]
        }
      ],
      "source": [
        "# Compiling the model with binary cross-entropy loss, RMSprop optimizer, and accuracy metric\n",
        "learning_rate = .001 \n",
        "model_1.compile(loss='binary_crossentropy',\n",
        "              optimizer=RMSprop(lr=learning_rate),\n",
        "              metrics=['accuracy'])\n",
        "batch_size = 128  \n",
        "epochs = 20\n",
        "\n",
        "# Train the model and store training history\n",
        "history_model1 = model_1.fit(\n",
        "    x_train, y_train,\n",
        "    batch_size=batch_size,\n",
        "    epochs=epochs,\n",
        "    verbose=1,\n",
        "    validation_data=(x_test, y_test))"
      ]
    },
    {
      "cell_type": "code",
      "execution_count": 176,
      "id": "0eb50b58",
      "metadata": {},
      "outputs": [
        {
          "name": "stdout",
          "output_type": "stream",
          "text": [
            "Test loss: 0.2624252736568451\n",
            "Test accuracy: 0.8912500143051147\n"
          ]
        }
      ],
      "source": [
        "# Determining the result for testing set\n",
        "score = model_1.evaluate(x_test, y_test, verbose=0)\n",
        "print('Test loss:', score[0])\n",
        "print('Test accuracy:', score[1])"
      ]
    },
    {
      "cell_type": "markdown",
      "id": "3c858e5d",
      "metadata": {},
      "source": [
        "### ***Model 1 has two hidden layers and dropout of .4 at each layer. When the model is trained for 20 epochs with RMSProp at a learning rate of .001 and a batch size of 128, the accuracy resulted to approximately 89% and a loss of 0.26. The model is already somehow predicting the correct label but this result could still improve by adjusting some hyperparameters.***\n"
      ]
    },
    {
      "cell_type": "code",
      "execution_count": 177,
      "id": "0ca7e092",
      "metadata": {},
      "outputs": [
        {
          "data": {
            "image/png": "[encoded data removed]",
            "text/plain": [
              "<Figure size 1200x600 with 2 Axes>"
            ]
          },
          "metadata": {},
          "output_type": "display_data"
        }
      ],
      "source": [
        "plot_loss_accuracy(history_model1, 'Model 1')"
      ]
    },
    {
      "cell_type": "markdown",
      "id": "5f6df642",
      "metadata": {},
      "source": [
        "### ***Based on the graph above, as the number of epochs increases, the accuracy also increases, while the loss decreases. However, there's an evident fluctuations in both training and validation sets. This means that even though the model is learning from the data, and it's accuracy in predicting somehow getting higher, it still shows some instability in its performace.***"
      ]
    },
    {
      "cell_type": "code",
      "execution_count": 178,
      "id": "1fbe736d",
      "metadata": {},
      "outputs": [],
      "source": [
        "# Creating Model 2 \n",
        "model_2 = Sequential()\n",
        "model_2.add(Dense(64, activation='relu', input_shape=(8,)))  # First hidden layer with 64 neurons\n",
        "model_2.add(Dropout(0.27))  # Dropout of 0.27 in the first hidden layer\n",
        "model_2.add(Dense(50, activation='relu', kernel_regularizer='l2')) # Second hidden layer with 64 neurons and with L2 regularization\n",
        "model_2.add(Dropout(0.27))  # Dropout of 0.27 in the second hidden layer\n",
        "model_2.add(Dense(45, activation='relu')) # Third hidden layer with 45 neurons\n",
        "model_2.add(Dropout(0.3))  # Dropout of 0.3 in the third hidden layer\n",
        "model_2.add(Dense(1, activation='sigmoid')) # Final layer with sigmoid activation function"
      ]
    },
    {
      "cell_type": "code",
      "execution_count": 179,
      "id": "7afeff7d",
      "metadata": {},
      "outputs": [
        {
          "name": "stdout",
          "output_type": "stream",
          "text": [
            "Model: \"sequential_16\"\n",
            "_________________________________________________________________\n",
            " Layer (type)                Output Shape              Param #   \n",
            "=================================================================\n",
            " dense_55 (Dense)            (None, 64)                576       \n",
            "                                                                 \n",
            " dropout_39 (Dropout)        (None, 64)                0         \n",
            "                                                                 \n",
            " dense_56 (Dense)            (None, 50)                3250      \n",
            "                                                                 \n",
            " dropout_40 (Dropout)        (None, 50)                0         \n",
            "                                                                 \n",
            " dense_57 (Dense)            (None, 45)                2295      \n",
            "                                                                 \n",
            " dropout_41 (Dropout)        (None, 45)                0         \n",
            "                                                                 \n",
            " dense_58 (Dense)            (None, 1)                 46        \n",
            "                                                                 \n",
            "=================================================================\n",
            "Total params: 6167 (24.09 KB)\n",
            "Trainable params: 6167 (24.09 KB)\n",
            "Non-trainable params: 0 (0.00 Byte)\n",
            "_________________________________________________________________\n"
          ]
        }
      ],
      "source": [
        "model_2.summary()"
      ]
    },
    {
      "cell_type": "markdown",
      "id": "093f8b6a",
      "metadata": {},
      "source": [
        "### ***Model 2 consists of three hidden layers and a final layer with sigmoid activation function. Sigmoid activation function is implemented since Apple dataset is a binary classificaion, and it transforms the output of a neuron into a value between 0 and 1. The parametes of each dense layer is computed by adding the weights and biases, and with the formula of \"(n x m) + m\", as explained further in model 1 summary. To compare the two model, model 1 has larger number of output shape and parameters. Meanwhile, model 2 has more hidden layers and regularization techniques. Aside from dropout, it also implemented the l2 regularization in the second hidden layer. L2 regularization discourages large weights in the model which prevents it from becoming too dependent on any feature. Meanwhile, dropout works by randomly selecting neurons that will be ignored during training, it also depends on the dropout rate. In this case, first and second hidden layer has 0.27 dropout rate, while the third hidden layer has a little bit higher which is 0.3.***\n",
        "\n",
        "\n",
        "\n"
      ]
    },
    {
      "cell_type": "code",
      "execution_count": 180,
      "id": "636fb91a",
      "metadata": {},
      "outputs": [
        {
          "name": "stderr",
          "output_type": "stream",
          "text": [
            "WARNING:absl:`lr` is deprecated in Keras optimizer, please use `learning_rate` or use the legacy optimizer, e.g.,tf.keras.optimizers.legacy.RMSprop.\n"
          ]
        },
        {
          "name": "stdout",
          "output_type": "stream",
          "text": [
            "Epoch 1/180\n",
            "64/64 [==============================] - 1s 5ms/step - loss: 1.0607 - accuracy: 0.6187 - val_loss: 0.8543 - val_accuracy: 0.7600\n",
            "Epoch 2/180\n",
            "64/64 [==============================] - 0s 3ms/step - loss: 0.7748 - accuracy: 0.7409 - val_loss: 0.6396 - val_accuracy: 0.7850\n",
            "Epoch 3/180\n",
            "64/64 [==============================] - 0s 3ms/step - loss: 0.6156 - accuracy: 0.7912 - val_loss: 0.5321 - val_accuracy: 0.8150\n",
            "Epoch 4/180\n",
            "64/64 [==============================] - 0s 2ms/step - loss: 0.5397 - accuracy: 0.8031 - val_loss: 0.4784 - val_accuracy: 0.8250\n",
            "Epoch 5/180\n",
            "64/64 [==============================] - 0s 2ms/step - loss: 0.4921 - accuracy: 0.8234 - val_loss: 0.4376 - val_accuracy: 0.8388\n",
            "Epoch 6/180\n",
            "64/64 [==============================] - 0s 2ms/step - loss: 0.4542 - accuracy: 0.8334 - val_loss: 0.4030 - val_accuracy: 0.8413\n",
            "Epoch 7/180\n",
            "64/64 [==============================] - 0s 2ms/step - loss: 0.4341 - accuracy: 0.8406 - val_loss: 0.3886 - val_accuracy: 0.8562\n",
            "Epoch 8/180\n",
            "64/64 [==============================] - 0s 2ms/step - loss: 0.4078 - accuracy: 0.8434 - val_loss: 0.3760 - val_accuracy: 0.8413\n",
            "Epoch 9/180\n",
            "64/64 [==============================] - 0s 2ms/step - loss: 0.4004 - accuracy: 0.8469 - val_loss: 0.3514 - val_accuracy: 0.8612\n",
            "Epoch 10/180\n",
            "64/64 [==============================] - 0s 2ms/step - loss: 0.3904 - accuracy: 0.8484 - val_loss: 0.3471 - val_accuracy: 0.8637\n",
            "Epoch 11/180\n",
            "64/64 [==============================] - 0s 2ms/step - loss: 0.3731 - accuracy: 0.8566 - val_loss: 0.3414 - val_accuracy: 0.8562\n",
            "Epoch 12/180\n",
            "64/64 [==============================] - 0s 2ms/step - loss: 0.3660 - accuracy: 0.8550 - val_loss: 0.3349 - val_accuracy: 0.8687\n",
            "Epoch 13/180\n",
            "64/64 [==============================] - 0s 3ms/step - loss: 0.3566 - accuracy: 0.8541 - val_loss: 0.3241 - val_accuracy: 0.8750\n",
            "Epoch 14/180\n",
            "64/64 [==============================] - 0s 3ms/step - loss: 0.3470 - accuracy: 0.8616 - val_loss: 0.3142 - val_accuracy: 0.8712\n",
            "Epoch 15/180\n",
            "64/64 [==============================] - 0s 2ms/step - loss: 0.3373 - accuracy: 0.8681 - val_loss: 0.3238 - val_accuracy: 0.8700\n",
            "Epoch 16/180\n",
            "64/64 [==============================] - 0s 2ms/step - loss: 0.3228 - accuracy: 0.8681 - val_loss: 0.3095 - val_accuracy: 0.8725\n",
            "Epoch 17/180\n",
            "64/64 [==============================] - 0s 2ms/step - loss: 0.3323 - accuracy: 0.8647 - val_loss: 0.3102 - val_accuracy: 0.8737\n",
            "Epoch 18/180\n",
            "64/64 [==============================] - 0s 2ms/step - loss: 0.3265 - accuracy: 0.8694 - val_loss: 0.3019 - val_accuracy: 0.8775\n",
            "Epoch 19/180\n",
            "64/64 [==============================] - 0s 2ms/step - loss: 0.3209 - accuracy: 0.8759 - val_loss: 0.3068 - val_accuracy: 0.8800\n",
            "Epoch 20/180\n",
            "64/64 [==============================] - 0s 3ms/step - loss: 0.3177 - accuracy: 0.8712 - val_loss: 0.3128 - val_accuracy: 0.8687\n",
            "Epoch 21/180\n",
            "64/64 [==============================] - 0s 2ms/step - loss: 0.3175 - accuracy: 0.8753 - val_loss: 0.3173 - val_accuracy: 0.8737\n",
            "Epoch 22/180\n",
            "64/64 [==============================] - 0s 2ms/step - loss: 0.3127 - accuracy: 0.8781 - val_loss: 0.2953 - val_accuracy: 0.8863\n",
            "Epoch 23/180\n",
            "64/64 [==============================] - 0s 2ms/step - loss: 0.3160 - accuracy: 0.8784 - val_loss: 0.2913 - val_accuracy: 0.8925\n",
            "Epoch 24/180\n",
            "64/64 [==============================] - 0s 2ms/step - loss: 0.3100 - accuracy: 0.8766 - val_loss: 0.3013 - val_accuracy: 0.8788\n",
            "Epoch 25/180\n",
            "64/64 [==============================] - 0s 2ms/step - loss: 0.3095 - accuracy: 0.8756 - val_loss: 0.2996 - val_accuracy: 0.8850\n",
            "Epoch 26/180\n",
            "64/64 [==============================] - 0s 2ms/step - loss: 0.3043 - accuracy: 0.8894 - val_loss: 0.3060 - val_accuracy: 0.8850\n",
            "Epoch 27/180\n",
            "64/64 [==============================] - 0s 2ms/step - loss: 0.3026 - accuracy: 0.8788 - val_loss: 0.2817 - val_accuracy: 0.9000\n",
            "Epoch 28/180\n",
            "64/64 [==============================] - 0s 2ms/step - loss: 0.2937 - accuracy: 0.8850 - val_loss: 0.2793 - val_accuracy: 0.8875\n",
            "Epoch 29/180\n",
            "64/64 [==============================] - 0s 2ms/step - loss: 0.2961 - accuracy: 0.8831 - val_loss: 0.2820 - val_accuracy: 0.8963\n",
            "Epoch 30/180\n",
            "64/64 [==============================] - 0s 3ms/step - loss: 0.3004 - accuracy: 0.8819 - val_loss: 0.2720 - val_accuracy: 0.8963\n",
            "Epoch 31/180\n",
            "64/64 [==============================] - 0s 2ms/step - loss: 0.2934 - accuracy: 0.8875 - val_loss: 0.2811 - val_accuracy: 0.8875\n",
            "Epoch 32/180\n",
            "64/64 [==============================] - 0s 2ms/step - loss: 0.2877 - accuracy: 0.8847 - val_loss: 0.2773 - val_accuracy: 0.8813\n",
            "Epoch 33/180\n",
            "64/64 [==============================] - 0s 2ms/step - loss: 0.2921 - accuracy: 0.8784 - val_loss: 0.2732 - val_accuracy: 0.8888\n",
            "Epoch 34/180\n",
            "64/64 [==============================] - 0s 3ms/step - loss: 0.2763 - accuracy: 0.8950 - val_loss: 0.2661 - val_accuracy: 0.8988\n",
            "Epoch 35/180\n",
            "64/64 [==============================] - 0s 2ms/step - loss: 0.2810 - accuracy: 0.8953 - val_loss: 0.2739 - val_accuracy: 0.8913\n",
            "Epoch 36/180\n",
            "64/64 [==============================] - 0s 2ms/step - loss: 0.2930 - accuracy: 0.8894 - val_loss: 0.2614 - val_accuracy: 0.8975\n",
            "Epoch 37/180\n",
            "64/64 [==============================] - 0s 2ms/step - loss: 0.2754 - accuracy: 0.8944 - val_loss: 0.2658 - val_accuracy: 0.8813\n",
            "Epoch 38/180\n",
            "64/64 [==============================] - 0s 2ms/step - loss: 0.2754 - accuracy: 0.8909 - val_loss: 0.2595 - val_accuracy: 0.8975\n",
            "Epoch 39/180\n",
            "64/64 [==============================] - 0s 2ms/step - loss: 0.2877 - accuracy: 0.8891 - val_loss: 0.2608 - val_accuracy: 0.9038\n",
            "Epoch 40/180\n",
            "64/64 [==============================] - 0s 2ms/step - loss: 0.2743 - accuracy: 0.8981 - val_loss: 0.2520 - val_accuracy: 0.9087\n",
            "Epoch 41/180\n",
            "64/64 [==============================] - 0s 3ms/step - loss: 0.2761 - accuracy: 0.8975 - val_loss: 0.2617 - val_accuracy: 0.9075\n",
            "Epoch 42/180\n",
            "64/64 [==============================] - 0s 2ms/step - loss: 0.2681 - accuracy: 0.8925 - val_loss: 0.2495 - val_accuracy: 0.9162\n",
            "Epoch 43/180\n",
            "64/64 [==============================] - 0s 2ms/step - loss: 0.2804 - accuracy: 0.8959 - val_loss: 0.2613 - val_accuracy: 0.9013\n",
            "Epoch 44/180\n",
            "64/64 [==============================] - 0s 2ms/step - loss: 0.2680 - accuracy: 0.8997 - val_loss: 0.2534 - val_accuracy: 0.9100\n",
            "Epoch 45/180\n",
            "64/64 [==============================] - 0s 2ms/step - loss: 0.2696 - accuracy: 0.9003 - val_loss: 0.2600 - val_accuracy: 0.8975\n",
            "Epoch 46/180\n",
            "64/64 [==============================] - 0s 2ms/step - loss: 0.2728 - accuracy: 0.8956 - val_loss: 0.2542 - val_accuracy: 0.9087\n",
            "Epoch 47/180\n",
            "64/64 [==============================] - 0s 2ms/step - loss: 0.2595 - accuracy: 0.9044 - val_loss: 0.2406 - val_accuracy: 0.9125\n",
            "Epoch 48/180\n",
            "64/64 [==============================] - 0s 2ms/step - loss: 0.2616 - accuracy: 0.8981 - val_loss: 0.2524 - val_accuracy: 0.9125\n",
            "Epoch 49/180\n",
            "64/64 [==============================] - 0s 2ms/step - loss: 0.2564 - accuracy: 0.9072 - val_loss: 0.2542 - val_accuracy: 0.9075\n",
            "Epoch 50/180\n",
            "64/64 [==============================] - 0s 3ms/step - loss: 0.2471 - accuracy: 0.9122 - val_loss: 0.2532 - val_accuracy: 0.8988\n",
            "Epoch 51/180\n",
            "64/64 [==============================] - 0s 3ms/step - loss: 0.2532 - accuracy: 0.9078 - val_loss: 0.2314 - val_accuracy: 0.9200\n",
            "Epoch 52/180\n",
            "64/64 [==============================] - 0s 2ms/step - loss: 0.2456 - accuracy: 0.9097 - val_loss: 0.2416 - val_accuracy: 0.9225\n",
            "Epoch 53/180\n",
            "64/64 [==============================] - 0s 2ms/step - loss: 0.2467 - accuracy: 0.9109 - val_loss: 0.2316 - val_accuracy: 0.9225\n",
            "Epoch 54/180\n",
            "64/64 [==============================] - 0s 2ms/step - loss: 0.2331 - accuracy: 0.9150 - val_loss: 0.2269 - val_accuracy: 0.9262\n",
            "Epoch 55/180\n",
            "64/64 [==============================] - 0s 2ms/step - loss: 0.2354 - accuracy: 0.9181 - val_loss: 0.2256 - val_accuracy: 0.9262\n",
            "Epoch 56/180\n",
            "64/64 [==============================] - 0s 2ms/step - loss: 0.2417 - accuracy: 0.9144 - val_loss: 0.2442 - val_accuracy: 0.9150\n",
            "Epoch 57/180\n",
            "64/64 [==============================] - 0s 2ms/step - loss: 0.2335 - accuracy: 0.9187 - val_loss: 0.2225 - val_accuracy: 0.9225\n",
            "Epoch 58/180\n",
            "64/64 [==============================] - 0s 3ms/step - loss: 0.2391 - accuracy: 0.9116 - val_loss: 0.2290 - val_accuracy: 0.9125\n",
            "Epoch 59/180\n",
            "64/64 [==============================] - 0s 2ms/step - loss: 0.2302 - accuracy: 0.9181 - val_loss: 0.2285 - val_accuracy: 0.9212\n",
            "Epoch 60/180\n",
            "64/64 [==============================] - 0s 2ms/step - loss: 0.2302 - accuracy: 0.9169 - val_loss: 0.2269 - val_accuracy: 0.9275\n",
            "Epoch 61/180\n",
            "64/64 [==============================] - 0s 2ms/step - loss: 0.2357 - accuracy: 0.9153 - val_loss: 0.2142 - val_accuracy: 0.9350\n",
            "Epoch 62/180\n",
            "64/64 [==============================] - 0s 2ms/step - loss: 0.2224 - accuracy: 0.9216 - val_loss: 0.2162 - val_accuracy: 0.9325\n",
            "Epoch 63/180\n",
            "64/64 [==============================] - 0s 2ms/step - loss: 0.2207 - accuracy: 0.9275 - val_loss: 0.2109 - val_accuracy: 0.9237\n",
            "Epoch 64/180\n",
            "64/64 [==============================] - 0s 2ms/step - loss: 0.2264 - accuracy: 0.9247 - val_loss: 0.2075 - val_accuracy: 0.9325\n",
            "Epoch 65/180\n",
            "64/64 [==============================] - 0s 2ms/step - loss: 0.2086 - accuracy: 0.9269 - val_loss: 0.2095 - val_accuracy: 0.9375\n",
            "Epoch 66/180\n",
            "64/64 [==============================] - 0s 2ms/step - loss: 0.2259 - accuracy: 0.9194 - val_loss: 0.2074 - val_accuracy: 0.9388\n",
            "Epoch 67/180\n",
            "64/64 [==============================] - 0s 3ms/step - loss: 0.2132 - accuracy: 0.9250 - val_loss: 0.2070 - val_accuracy: 0.9362\n",
            "Epoch 68/180\n",
            "64/64 [==============================] - 0s 2ms/step - loss: 0.2155 - accuracy: 0.9253 - val_loss: 0.1986 - val_accuracy: 0.9425\n",
            "Epoch 69/180\n",
            "64/64 [==============================] - 0s 2ms/step - loss: 0.2129 - accuracy: 0.9303 - val_loss: 0.2020 - val_accuracy: 0.9350\n",
            "Epoch 70/180\n",
            "64/64 [==============================] - 0s 3ms/step - loss: 0.2109 - accuracy: 0.9356 - val_loss: 0.1960 - val_accuracy: 0.9312\n",
            "Epoch 71/180\n",
            "64/64 [==============================] - 0s 2ms/step - loss: 0.2121 - accuracy: 0.9272 - val_loss: 0.1951 - val_accuracy: 0.9375\n",
            "Epoch 72/180\n",
            "64/64 [==============================] - 0s 2ms/step - loss: 0.2117 - accuracy: 0.9322 - val_loss: 0.1992 - val_accuracy: 0.9362\n",
            "Epoch 73/180\n",
            "64/64 [==============================] - 0s 2ms/step - loss: 0.2076 - accuracy: 0.9312 - val_loss: 0.1910 - val_accuracy: 0.9350\n",
            "Epoch 74/180\n",
            "64/64 [==============================] - 0s 2ms/step - loss: 0.1952 - accuracy: 0.9375 - val_loss: 0.1953 - val_accuracy: 0.9438\n",
            "Epoch 75/180\n",
            "64/64 [==============================] - 0s 3ms/step - loss: 0.2056 - accuracy: 0.9312 - val_loss: 0.1850 - val_accuracy: 0.9413\n",
            "Epoch 76/180\n",
            "64/64 [==============================] - 0s 2ms/step - loss: 0.1992 - accuracy: 0.9350 - val_loss: 0.1940 - val_accuracy: 0.9350\n",
            "Epoch 77/180\n",
            "64/64 [==============================] - 0s 2ms/step - loss: 0.1972 - accuracy: 0.9391 - val_loss: 0.1828 - val_accuracy: 0.9438\n",
            "Epoch 78/180\n",
            "64/64 [==============================] - 0s 2ms/step - loss: 0.2019 - accuracy: 0.9362 - val_loss: 0.1778 - val_accuracy: 0.9400\n",
            "Epoch 79/180\n",
            "64/64 [==============================] - 0s 2ms/step - loss: 0.2100 - accuracy: 0.9297 - val_loss: 0.1837 - val_accuracy: 0.9400\n",
            "Epoch 80/180\n",
            "64/64 [==============================] - 0s 2ms/step - loss: 0.2039 - accuracy: 0.9334 - val_loss: 0.1758 - val_accuracy: 0.9400\n",
            "Epoch 81/180\n",
            "64/64 [==============================] - 0s 3ms/step - loss: 0.2101 - accuracy: 0.9278 - val_loss: 0.1782 - val_accuracy: 0.9488\n",
            "Epoch 82/180\n",
            "64/64 [==============================] - 0s 3ms/step - loss: 0.1923 - accuracy: 0.9391 - val_loss: 0.1899 - val_accuracy: 0.9450\n",
            "Epoch 83/180\n",
            "64/64 [==============================] - 0s 3ms/step - loss: 0.1858 - accuracy: 0.9431 - val_loss: 0.2041 - val_accuracy: 0.9350\n",
            "Epoch 84/180\n",
            "64/64 [==============================] - 0s 2ms/step - loss: 0.1894 - accuracy: 0.9369 - val_loss: 0.1946 - val_accuracy: 0.9388\n",
            "Epoch 85/180\n",
            "64/64 [==============================] - 0s 2ms/step - loss: 0.1977 - accuracy: 0.9328 - val_loss: 0.2040 - val_accuracy: 0.9375\n",
            "Epoch 86/180\n",
            "64/64 [==============================] - 0s 2ms/step - loss: 0.1955 - accuracy: 0.9356 - val_loss: 0.1989 - val_accuracy: 0.9312\n",
            "Epoch 87/180\n",
            "64/64 [==============================] - 0s 2ms/step - loss: 0.1933 - accuracy: 0.9384 - val_loss: 0.1856 - val_accuracy: 0.9488\n",
            "Epoch 88/180\n",
            "64/64 [==============================] - 0s 2ms/step - loss: 0.1941 - accuracy: 0.9344 - val_loss: 0.1780 - val_accuracy: 0.9463\n",
            "Epoch 89/180\n",
            "64/64 [==============================] - 0s 2ms/step - loss: 0.1916 - accuracy: 0.9366 - val_loss: 0.1692 - val_accuracy: 0.9463\n",
            "Epoch 90/180\n",
            "64/64 [==============================] - 0s 3ms/step - loss: 0.1909 - accuracy: 0.9369 - val_loss: 0.1731 - val_accuracy: 0.9475\n",
            "Epoch 91/180\n",
            "64/64 [==============================] - 0s 3ms/step - loss: 0.1941 - accuracy: 0.9400 - val_loss: 0.1904 - val_accuracy: 0.9388\n",
            "Epoch 92/180\n",
            "64/64 [==============================] - 0s 2ms/step - loss: 0.1909 - accuracy: 0.9375 - val_loss: 0.1779 - val_accuracy: 0.9425\n",
            "Epoch 93/180\n",
            "64/64 [==============================] - 0s 2ms/step - loss: 0.1829 - accuracy: 0.9428 - val_loss: 0.1676 - val_accuracy: 0.9525\n",
            "Epoch 94/180\n",
            "64/64 [==============================] - 0s 3ms/step - loss: 0.1883 - accuracy: 0.9409 - val_loss: 0.1801 - val_accuracy: 0.9488\n",
            "Epoch 95/180\n",
            "64/64 [==============================] - 0s 2ms/step - loss: 0.1810 - accuracy: 0.9416 - val_loss: 0.1750 - val_accuracy: 0.9450\n",
            "Epoch 96/180\n",
            "64/64 [==============================] - 0s 2ms/step - loss: 0.1925 - accuracy: 0.9422 - val_loss: 0.1667 - val_accuracy: 0.9525\n",
            "Epoch 97/180\n",
            "64/64 [==============================] - 0s 3ms/step - loss: 0.1784 - accuracy: 0.9406 - val_loss: 0.1651 - val_accuracy: 0.9450\n",
            "Epoch 98/180\n",
            "64/64 [==============================] - 0s 3ms/step - loss: 0.1893 - accuracy: 0.9350 - val_loss: 0.1726 - val_accuracy: 0.9463\n",
            "Epoch 99/180\n",
            "64/64 [==============================] - 0s 3ms/step - loss: 0.1834 - accuracy: 0.9406 - val_loss: 0.1675 - val_accuracy: 0.9463\n",
            "Epoch 100/180\n",
            "64/64 [==============================] - 0s 2ms/step - loss: 0.1819 - accuracy: 0.9413 - val_loss: 0.1813 - val_accuracy: 0.9450\n",
            "Epoch 101/180\n",
            "64/64 [==============================] - 0s 3ms/step - loss: 0.1838 - accuracy: 0.9403 - val_loss: 0.1946 - val_accuracy: 0.9400\n",
            "Epoch 102/180\n",
            "64/64 [==============================] - 0s 2ms/step - loss: 0.1746 - accuracy: 0.9466 - val_loss: 0.1672 - val_accuracy: 0.9463\n",
            "Epoch 103/180\n",
            "64/64 [==============================] - 0s 2ms/step - loss: 0.1747 - accuracy: 0.9456 - val_loss: 0.1631 - val_accuracy: 0.9500\n",
            "Epoch 104/180\n",
            "64/64 [==============================] - 0s 2ms/step - loss: 0.1914 - accuracy: 0.9397 - val_loss: 0.1601 - val_accuracy: 0.9525\n",
            "Epoch 105/180\n",
            "64/64 [==============================] - 0s 3ms/step - loss: 0.1806 - accuracy: 0.9441 - val_loss: 0.1546 - val_accuracy: 0.9525\n",
            "Epoch 106/180\n",
            "64/64 [==============================] - 0s 2ms/step - loss: 0.1839 - accuracy: 0.9416 - val_loss: 0.1821 - val_accuracy: 0.9413\n",
            "Epoch 107/180\n",
            "64/64 [==============================] - 0s 2ms/step - loss: 0.1860 - accuracy: 0.9369 - val_loss: 0.1634 - val_accuracy: 0.9525\n",
            "Epoch 108/180\n",
            "64/64 [==============================] - 0s 2ms/step - loss: 0.1786 - accuracy: 0.9444 - val_loss: 0.1658 - val_accuracy: 0.9475\n",
            "Epoch 109/180\n",
            "64/64 [==============================] - 0s 3ms/step - loss: 0.1763 - accuracy: 0.9441 - val_loss: 0.1628 - val_accuracy: 0.9488\n",
            "Epoch 110/180\n",
            "64/64 [==============================] - 0s 3ms/step - loss: 0.1923 - accuracy: 0.9403 - val_loss: 0.1717 - val_accuracy: 0.9513\n",
            "Epoch 111/180\n",
            "64/64 [==============================] - 0s 3ms/step - loss: 0.1774 - accuracy: 0.9425 - val_loss: 0.1699 - val_accuracy: 0.9450\n",
            "Epoch 112/180\n",
            "64/64 [==============================] - 0s 2ms/step - loss: 0.1749 - accuracy: 0.9444 - val_loss: 0.1793 - val_accuracy: 0.9388\n",
            "Epoch 113/180\n",
            "64/64 [==============================] - 0s 2ms/step - loss: 0.1739 - accuracy: 0.9431 - val_loss: 0.1628 - val_accuracy: 0.9575\n",
            "Epoch 114/180\n",
            "64/64 [==============================] - 0s 2ms/step - loss: 0.1754 - accuracy: 0.9444 - val_loss: 0.1782 - val_accuracy: 0.9450\n",
            "Epoch 115/180\n",
            "64/64 [==============================] - 0s 3ms/step - loss: 0.1806 - accuracy: 0.9394 - val_loss: 0.1664 - val_accuracy: 0.9488\n",
            "Epoch 116/180\n",
            "64/64 [==============================] - 0s 3ms/step - loss: 0.1626 - accuracy: 0.9534 - val_loss: 0.1677 - val_accuracy: 0.9475\n",
            "Epoch 117/180\n",
            "64/64 [==============================] - 0s 3ms/step - loss: 0.1735 - accuracy: 0.9447 - val_loss: 0.1671 - val_accuracy: 0.9500\n",
            "Epoch 118/180\n",
            "64/64 [==============================] - 0s 3ms/step - loss: 0.1741 - accuracy: 0.9447 - val_loss: 0.1752 - val_accuracy: 0.9438\n",
            "Epoch 119/180\n",
            "64/64 [==============================] - 0s 2ms/step - loss: 0.1776 - accuracy: 0.9478 - val_loss: 0.1826 - val_accuracy: 0.9438\n",
            "Epoch 120/180\n",
            "64/64 [==============================] - 0s 2ms/step - loss: 0.1758 - accuracy: 0.9416 - val_loss: 0.1706 - val_accuracy: 0.9500\n",
            "Epoch 121/180\n",
            "64/64 [==============================] - 0s 3ms/step - loss: 0.1817 - accuracy: 0.9456 - val_loss: 0.1599 - val_accuracy: 0.9513\n",
            "Epoch 122/180\n",
            "64/64 [==============================] - 0s 2ms/step - loss: 0.1645 - accuracy: 0.9506 - val_loss: 0.1680 - val_accuracy: 0.9538\n",
            "Epoch 123/180\n",
            "64/64 [==============================] - 0s 3ms/step - loss: 0.1632 - accuracy: 0.9503 - val_loss: 0.1746 - val_accuracy: 0.9388\n",
            "Epoch 124/180\n",
            "64/64 [==============================] - 0s 3ms/step - loss: 0.1816 - accuracy: 0.9447 - val_loss: 0.1638 - val_accuracy: 0.9475\n",
            "Epoch 125/180\n",
            "64/64 [==============================] - 0s 4ms/step - loss: 0.1741 - accuracy: 0.9491 - val_loss: 0.1562 - val_accuracy: 0.9500\n",
            "Epoch 126/180\n",
            "64/64 [==============================] - 0s 3ms/step - loss: 0.1744 - accuracy: 0.9438 - val_loss: 0.1676 - val_accuracy: 0.9488\n",
            "Epoch 127/180\n",
            "64/64 [==============================] - 0s 4ms/step - loss: 0.1672 - accuracy: 0.9453 - val_loss: 0.1718 - val_accuracy: 0.9475\n",
            "Epoch 128/180\n",
            "64/64 [==============================] - 0s 3ms/step - loss: 0.1736 - accuracy: 0.9466 - val_loss: 0.1751 - val_accuracy: 0.9450\n",
            "Epoch 129/180\n",
            "64/64 [==============================] - 0s 4ms/step - loss: 0.1670 - accuracy: 0.9503 - val_loss: 0.1704 - val_accuracy: 0.9450\n",
            "Epoch 130/180\n",
            "64/64 [==============================] - 0s 3ms/step - loss: 0.1660 - accuracy: 0.9522 - val_loss: 0.1654 - val_accuracy: 0.9475\n",
            "Epoch 131/180\n",
            "64/64 [==============================] - 0s 3ms/step - loss: 0.1790 - accuracy: 0.9469 - val_loss: 0.1492 - val_accuracy: 0.9563\n",
            "Epoch 132/180\n",
            "64/64 [==============================] - 0s 3ms/step - loss: 0.1724 - accuracy: 0.9472 - val_loss: 0.1598 - val_accuracy: 0.9475\n",
            "Epoch 133/180\n",
            "64/64 [==============================] - 0s 2ms/step - loss: 0.1611 - accuracy: 0.9513 - val_loss: 0.1593 - val_accuracy: 0.9500\n",
            "Epoch 134/180\n",
            "64/64 [==============================] - 0s 2ms/step - loss: 0.1650 - accuracy: 0.9503 - val_loss: 0.1613 - val_accuracy: 0.9525\n",
            "Epoch 135/180\n",
            "64/64 [==============================] - 0s 3ms/step - loss: 0.1681 - accuracy: 0.9509 - val_loss: 0.1695 - val_accuracy: 0.9438\n",
            "Epoch 136/180\n",
            "64/64 [==============================] - 0s 2ms/step - loss: 0.1730 - accuracy: 0.9441 - val_loss: 0.1611 - val_accuracy: 0.9538\n",
            "Epoch 137/180\n",
            "64/64 [==============================] - 0s 2ms/step - loss: 0.1637 - accuracy: 0.9469 - val_loss: 0.1647 - val_accuracy: 0.9463\n",
            "Epoch 138/180\n",
            "64/64 [==============================] - 0s 2ms/step - loss: 0.1621 - accuracy: 0.9463 - val_loss: 0.1800 - val_accuracy: 0.9450\n",
            "Epoch 139/180\n",
            "64/64 [==============================] - 0s 2ms/step - loss: 0.1641 - accuracy: 0.9472 - val_loss: 0.1537 - val_accuracy: 0.9513\n",
            "Epoch 140/180\n",
            "64/64 [==============================] - 0s 2ms/step - loss: 0.1652 - accuracy: 0.9509 - val_loss: 0.1541 - val_accuracy: 0.9563\n",
            "Epoch 141/180\n",
            "64/64 [==============================] - 0s 3ms/step - loss: 0.1663 - accuracy: 0.9459 - val_loss: 0.1546 - val_accuracy: 0.9563\n",
            "Epoch 142/180\n",
            "64/64 [==============================] - 0s 3ms/step - loss: 0.1680 - accuracy: 0.9444 - val_loss: 0.1616 - val_accuracy: 0.9488\n",
            "Epoch 143/180\n",
            "64/64 [==============================] - 0s 2ms/step - loss: 0.1680 - accuracy: 0.9488 - val_loss: 0.1591 - val_accuracy: 0.9500\n",
            "Epoch 144/180\n",
            "64/64 [==============================] - 0s 2ms/step - loss: 0.1677 - accuracy: 0.9453 - val_loss: 0.1526 - val_accuracy: 0.9475\n",
            "Epoch 145/180\n",
            "64/64 [==============================] - 0s 3ms/step - loss: 0.1689 - accuracy: 0.9459 - val_loss: 0.1501 - val_accuracy: 0.9563\n",
            "Epoch 146/180\n",
            "64/64 [==============================] - 0s 2ms/step - loss: 0.1670 - accuracy: 0.9481 - val_loss: 0.1565 - val_accuracy: 0.9550\n",
            "Epoch 147/180\n",
            "64/64 [==============================] - 0s 2ms/step - loss: 0.1622 - accuracy: 0.9494 - val_loss: 0.1523 - val_accuracy: 0.9513\n",
            "Epoch 148/180\n",
            "64/64 [==============================] - 0s 2ms/step - loss: 0.1637 - accuracy: 0.9497 - val_loss: 0.1514 - val_accuracy: 0.9538\n",
            "Epoch 149/180\n",
            "64/64 [==============================] - 0s 3ms/step - loss: 0.1680 - accuracy: 0.9491 - val_loss: 0.1558 - val_accuracy: 0.9425\n",
            "Epoch 150/180\n",
            "64/64 [==============================] - 0s 3ms/step - loss: 0.1637 - accuracy: 0.9519 - val_loss: 0.1867 - val_accuracy: 0.9375\n",
            "Epoch 151/180\n",
            "64/64 [==============================] - 0s 2ms/step - loss: 0.1652 - accuracy: 0.9463 - val_loss: 0.1571 - val_accuracy: 0.9538\n",
            "Epoch 152/180\n",
            "64/64 [==============================] - 0s 3ms/step - loss: 0.1612 - accuracy: 0.9484 - val_loss: 0.1677 - val_accuracy: 0.9450\n",
            "Epoch 153/180\n",
            "64/64 [==============================] - 0s 2ms/step - loss: 0.1485 - accuracy: 0.9556 - val_loss: 0.1480 - val_accuracy: 0.9550\n",
            "Epoch 154/180\n",
            "64/64 [==============================] - 0s 2ms/step - loss: 0.1600 - accuracy: 0.9475 - val_loss: 0.1526 - val_accuracy: 0.9513\n",
            "Epoch 155/180\n",
            "64/64 [==============================] - 0s 2ms/step - loss: 0.1637 - accuracy: 0.9497 - val_loss: 0.1470 - val_accuracy: 0.9538\n",
            "Epoch 156/180\n",
            "64/64 [==============================] - 0s 2ms/step - loss: 0.1611 - accuracy: 0.9506 - val_loss: 0.1561 - val_accuracy: 0.9500\n",
            "Epoch 157/180\n",
            "64/64 [==============================] - 0s 2ms/step - loss: 0.1645 - accuracy: 0.9494 - val_loss: 0.1784 - val_accuracy: 0.9400\n",
            "Epoch 158/180\n",
            "64/64 [==============================] - 0s 2ms/step - loss: 0.1607 - accuracy: 0.9506 - val_loss: 0.1488 - val_accuracy: 0.9525\n",
            "Epoch 159/180\n",
            "64/64 [==============================] - 0s 2ms/step - loss: 0.1589 - accuracy: 0.9500 - val_loss: 0.1579 - val_accuracy: 0.9488\n",
            "Epoch 160/180\n",
            "64/64 [==============================] - 0s 2ms/step - loss: 0.1665 - accuracy: 0.9456 - val_loss: 0.1680 - val_accuracy: 0.9500\n",
            "Epoch 161/180\n",
            "64/64 [==============================] - 0s 2ms/step - loss: 0.1660 - accuracy: 0.9513 - val_loss: 0.1592 - val_accuracy: 0.9463\n",
            "Epoch 162/180\n",
            "64/64 [==============================] - 0s 2ms/step - loss: 0.1637 - accuracy: 0.9463 - val_loss: 0.1488 - val_accuracy: 0.9513\n",
            "Epoch 163/180\n",
            "64/64 [==============================] - 0s 2ms/step - loss: 0.1584 - accuracy: 0.9463 - val_loss: 0.1521 - val_accuracy: 0.9538\n",
            "Epoch 164/180\n",
            "64/64 [==============================] - 0s 2ms/step - loss: 0.1604 - accuracy: 0.9541 - val_loss: 0.1645 - val_accuracy: 0.9475\n",
            "Epoch 165/180\n",
            "64/64 [==============================] - 0s 2ms/step - loss: 0.1543 - accuracy: 0.9516 - val_loss: 0.1629 - val_accuracy: 0.9488\n",
            "Epoch 166/180\n",
            "64/64 [==============================] - 0s 3ms/step - loss: 0.1516 - accuracy: 0.9547 - val_loss: 0.1553 - val_accuracy: 0.9463\n",
            "Epoch 167/180\n",
            "64/64 [==============================] - 0s 3ms/step - loss: 0.1516 - accuracy: 0.9534 - val_loss: 0.1530 - val_accuracy: 0.9563\n",
            "Epoch 168/180\n",
            "64/64 [==============================] - 0s 2ms/step - loss: 0.1412 - accuracy: 0.9606 - val_loss: 0.1834 - val_accuracy: 0.9450\n",
            "Epoch 169/180\n",
            "64/64 [==============================] - 0s 2ms/step - loss: 0.1603 - accuracy: 0.9509 - val_loss: 0.1812 - val_accuracy: 0.9413\n",
            "Epoch 170/180\n",
            "64/64 [==============================] - 0s 2ms/step - loss: 0.1588 - accuracy: 0.9556 - val_loss: 0.1641 - val_accuracy: 0.9438\n",
            "Epoch 171/180\n",
            "64/64 [==============================] - 0s 2ms/step - loss: 0.1535 - accuracy: 0.9547 - val_loss: 0.1489 - val_accuracy: 0.9500\n",
            "Epoch 172/180\n",
            "64/64 [==============================] - 0s 2ms/step - loss: 0.1606 - accuracy: 0.9513 - val_loss: 0.1557 - val_accuracy: 0.9538\n",
            "Epoch 173/180\n",
            "64/64 [==============================] - 0s 2ms/step - loss: 0.1545 - accuracy: 0.9559 - val_loss: 0.1684 - val_accuracy: 0.9438\n",
            "Epoch 174/180\n",
            "64/64 [==============================] - 0s 2ms/step - loss: 0.1572 - accuracy: 0.9484 - val_loss: 0.1475 - val_accuracy: 0.9563\n",
            "Epoch 175/180\n",
            "64/64 [==============================] - 0s 3ms/step - loss: 0.1623 - accuracy: 0.9503 - val_loss: 0.1767 - val_accuracy: 0.9400\n",
            "Epoch 176/180\n",
            "64/64 [==============================] - 0s 3ms/step - loss: 0.1644 - accuracy: 0.9481 - val_loss: 0.1584 - val_accuracy: 0.9488\n",
            "Epoch 177/180\n",
            "64/64 [==============================] - 0s 2ms/step - loss: 0.1490 - accuracy: 0.9566 - val_loss: 0.1622 - val_accuracy: 0.9438\n",
            "Epoch 178/180\n",
            "64/64 [==============================] - 0s 2ms/step - loss: 0.1628 - accuracy: 0.9506 - val_loss: 0.1538 - val_accuracy: 0.9500\n",
            "Epoch 179/180\n",
            "64/64 [==============================] - 0s 2ms/step - loss: 0.1525 - accuracy: 0.9509 - val_loss: 0.1639 - val_accuracy: 0.9400\n",
            "Epoch 180/180\n",
            "64/64 [==============================] - 0s 2ms/step - loss: 0.1572 - accuracy: 0.9528 - val_loss: 0.1721 - val_accuracy: 0.9525\n"
          ]
        }
      ],
      "source": [
        "# Compiling the model with binary cross-entropy loss, RMSprop optimizer, and accuracy metric\n",
        "learning_rate = .001\n",
        "model_2.compile(loss='binary_crossentropy',\n",
        "              optimizer=RMSprop(lr=learning_rate),\n",
        "              metrics=['accuracy'])\n",
        "batch_size = 50\n",
        "epochs = 180\n",
        "\n",
        "# Train the model and store training history\n",
        "history_model2 = model_2.fit(\n",
        "    x_train, y_train,\n",
        "    batch_size=batch_size,\n",
        "    epochs=epochs,\n",
        "    verbose=1,\n",
        "    validation_data=(x_test, y_test))"
      ]
    },
    {
      "cell_type": "code",
      "execution_count": 181,
      "id": "a145f257",
      "metadata": {},
      "outputs": [
        {
          "name": "stdout",
          "output_type": "stream",
          "text": [
            "Test loss: 0.1721046268939972\n",
            "Test accuracy: 0.9524999856948853\n"
          ]
        }
      ],
      "source": [
        "score = model_2.evaluate(x_test, y_test, verbose=0)\n",
        "print('Test loss:', score[0])\n",
        "print('Test accuracy:', score[1])"
      ]
    },
    {
      "cell_type": "markdown",
      "id": "57a13272",
      "metadata": {},
      "source": [
        "### ***Looking at the result of the two models, this model 2 has higher accuracy of 95% and a lower loss of 0.17, compared to model 1 that has 89% accuracy and 0.26 loss. This means that this model is performing better at predicting the apple's quality. Additionally, model 2 has lower batch size and higher epochs which contributed to its improved performance.***"
      ]
    },
    {
      "cell_type": "code",
      "execution_count": 182,
      "id": "9166ea98",
      "metadata": {},
      "outputs": [
        {
          "data": {
            "image/png": "[encoded data removed]",
            "text/plain": [
              "<Figure size 1200x600 with 2 Axes>"
            ]
          },
          "metadata": {},
          "output_type": "display_data"
        }
      ],
      "source": [
        "plot_loss_accuracy(history_model2, 'Model 2')"
      ]
    },
    {
      "cell_type": "markdown",
      "id": "f0aa08c0",
      "metadata": {},
      "source": [
        "### ***Upon analyzing the graph above, the accuracy and loss of validation and training sets are almost similar as it shows evident overlapping. Both leads to high accuracy and minimal loss. The highest accuracy attained by the model was around 95% while the loss was at around 0.15. This indicates that model 2 is better at predicting the target variable compared to the model 1 earlier. Model 1 has lower accuracy and has fluctuations. Meanwhile, model 2 is more stable and consistent as the number of epochs increases.***"
      ]
    },
    {
      "cell_type": "markdown",
      "id": "classified-campaign",
      "metadata": {
        "id": "classified-campaign"
      },
      "source": [
        "#### Conclusion"
      ]
    },
    {
      "cell_type": "markdown",
      "id": "relevant-thunder",
      "metadata": {
        "id": "relevant-thunder"
      },
      "source": [
        "### ***In this activity, I was able to create model with regularization techniques. I used dropout and L2 regularization. L2 regularization avoids the model to have large weights, which makes it not too dependent on any features. Meanwhile, dropout randomly select neurons depending on its rate, and that neurons will be ignored during training. Both of these techniques contribute to the performance of the models to avoid overfitting. Furthermore, I was able to compare models with different hyperparameters like learning rate, number of epochs, and batch size. Model 2 shows better performance and result compared to the model 1. This shows that adjusting the network or parameters can improve the ability of the model to predict the target variable.***"
      ]
    },
    {
      "cell_type": "markdown",
      "id": "636a9eec",
      "metadata": {},
      "source": [
        "Google colab link: https://colab.research.google.com/drive/1bUkl0WnBbA767pEKCtV3O7t-nD9wxXMu?usp=sharing"
      ]
    }
  ],
  "metadata": {
    "colab": {
      "provenance": []
    },
    "kernelspec": {
      "display_name": "Python 3",
      "language": "python",
      "name": "python3"
    },
    "language_info": {
      "codemirror_mode": {
        "name": "ipython",
        "version": 3
      },
      "file_extension": ".py",
      "mimetype": "text/x-python",
      "name": "python",
      "nbconvert_exporter": "python",
      "pygments_lexer": "ipython3",
      "version": "3.11.0"
    }
  },
  "nbformat": 4,
  "nbformat_minor": 5
}
