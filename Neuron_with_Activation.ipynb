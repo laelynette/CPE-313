{
  "nbformat": 4,
  "nbformat_minor": 0,
  "metadata": {
    "colab": {
      "provenance": [],
      "authorship_tag": "ABX9TyPkv7z5JgAck1uYsO2cJwDu",
      "include_colab_link": true
    },
    "kernelspec": {
      "name": "python3",
      "display_name": "Python 3"
    },
    "language_info": {
      "name": "python"
    }
  },
  "cells": [
    {
      "cell_type": "markdown",
      "metadata": {
        "id": "view-in-github",
        "colab_type": "text"
      },
      "source": [
        "<a href=\"https://colab.research.google.com/github/laelynette/CPE-313/blob/main/Neuron_with_Activation.ipynb\" target=\"_parent\"><img src=\"https://colab.research.google.com/assets/colab-badge.svg\" alt=\"Open In Colab\"/></a>"
      ]
    },
    {
      "cell_type": "code",
      "source": [
        "class Neuron:\n",
        "    def __init__(self, input_list, weight_list):\n",
        "        self.input_list = input_list\n",
        "        self.weight_list = weight_list\n",
        "\n",
        "    # A function for computing weighted sum of the inputs\n",
        "    def sum(self):\n",
        "        total = 0\n",
        "        for input_value, weight_value in zip(self.input_list, self.weight_list):\n",
        "            total += input_value * weight_value\n",
        "        return total\n",
        "\n",
        "    # Activation function (ReLU)\n",
        "    def rectified(output):\n",
        "         return max(0, output)\n",
        "\n",
        "# A set of links, describing the neuron with weights\n",
        "input_list = [5, 7, 2, 9, 6]\n",
        "weight_list = [0.1, 0.2, 0.3, 0.4, 0.5]\n",
        "\n",
        "result = Neuron(input_list, weight_list)\n",
        "total_result = result.sum()\n",
        "print(\"Total result: \", total_result)\n",
        "with_act_function = Neuron.rectified(total_result)\n",
        "print(\"With activation input: \", with_act_function)"
      ],
      "metadata": {
        "colab": {
          "base_uri": "https://localhost:8080/"
        },
        "id": "C1s-qMzeXGUQ",
        "outputId": "c0d9ee4b-c4e9-45f9-d483-ffb9123c5f4c"
      },
      "execution_count": 35,
      "outputs": [
        {
          "output_type": "stream",
          "name": "stdout",
          "text": [
            "Total result:  9.1\n",
            "With activation input:  9.1\n"
          ]
        }
      ]
    }
  ]
}